{
 "cells": [
  {
   "cell_type": "code",
   "execution_count": 1,
   "id": "81a2bdb0-993a-40d4-abcc-95e392642b28",
   "metadata": {},
   "outputs": [],
   "source": [
    "# General Imports\n",
    "import numpy as np\n",
    "import pandas as pd\n",
    "import seaborn as sns\n",
    "import matplotlib.pyplot as plt\n",
    "\n",
    "# Sklearn packages\n",
    "from sklearn.preprocessing import StandardScaler, MinMaxScaler, RobustScaler\n",
    "from sklearn.model_selection import train_test_split\n",
    "from sklearn.impute import KNNImputer\n",
    "\n",
    "# Models\n",
    "from sklearn.linear_model import LogisticRegression\n",
    "from sklearn.neighbors import KNeighborsClassifier\n",
    "from sklearn.tree import DecisionTreeClassifier\n",
    "\n",
    "from sklearn.feature_selection import RFE\n",
    "\n",
    "from sklearn.model_selection import StratifiedKFold\n",
    "\n",
    "# embedded methods\n",
    "from sklearn.linear_model import LassoCV\n",
    "import scipy.stats as stats\n",
    "from scipy.stats import chi2_contingency\n",
    "\n",
    "from sklearn.preprocessing import LabelEncoder\n",
    "\n",
    "#from imblearn.over_sampling import SMOTE\n",
    "#from imblearn.under_sampling import RandomUnderSampler\n",
    "\n",
    "from sklearn.metrics import classification_report, f1_score\n",
    "\n",
    "#from utils_train import *\n",
    "from utils import *\n",
    "import xgboost as xgb\n",
    "\n",
    "import warnings\n",
    "warnings.filterwarnings(\"ignore\")\n",
    "\n",
    "%load_ext autoreload\n",
    "%autoreload 2"
   ]
  },
  {
   "cell_type": "code",
   "execution_count": 2,
   "id": "c24bc475-d08e-45d4-a57b-78891c991c6d",
   "metadata": {},
   "outputs": [
    {
     "name": "stderr",
     "output_type": "stream",
     "text": [
      "2024-11-19 12:26:05,010\tINFO worker.py:1819 -- Started a local Ray instance.\n"
     ]
    },
    {
     "data": {
      "application/vnd.jupyter.widget-view+json": {
       "model_id": "56fa593012504a0cbd569adf02b7d34c",
       "version_major": 2,
       "version_minor": 0
      },
      "text/html": [
       "<div class=\"lm-Widget p-Widget lm-Panel p-Panel jp-Cell-outputWrapper\">\n",
       "    <div style=\"margin-left: 50px;display: flex;flex-direction: row;align-items: center\">\n",
       "        <div class=\"jp-RenderedHTMLCommon\" style=\"display: flex; flex-direction: row;\">\n",
       "  <svg viewBox=\"0 0 567 224\" fill=\"none\" xmlns=\"http://www.w3.org/2000/svg\" style=\"height: 3em;\">\n",
       "    <g clip-path=\"url(#clip0_4338_178347)\">\n",
       "        <path d=\"M341.29 165.561H355.29L330.13 129.051C345.63 123.991 354.21 112.051 354.21 94.2307C354.21 71.3707 338.72 58.1807 311.88 58.1807H271V165.561H283.27V131.661H311.8C314.25 131.661 316.71 131.501 319.01 131.351L341.25 165.561H341.29ZM283.29 119.851V70.0007H311.82C331.3 70.0007 342.34 78.2907 342.34 94.5507C342.34 111.271 331.34 119.861 311.82 119.861L283.29 119.851ZM451.4 138.411L463.4 165.561H476.74L428.74 58.1807H416L367.83 165.561H380.83L392.83 138.411H451.4ZM446.19 126.601H398L422 72.1407L446.24 126.601H446.19ZM526.11 128.741L566.91 58.1807H554.35L519.99 114.181L485.17 58.1807H472.44L514.01 129.181V165.541H526.13V128.741H526.11Z\" fill=\"var(--jp-ui-font-color0)\"/>\n",
       "        <path d=\"M82.35 104.44C84.0187 97.8827 87.8248 92.0678 93.1671 87.9146C98.5094 83.7614 105.083 81.5067 111.85 81.5067C118.617 81.5067 125.191 83.7614 130.533 87.9146C135.875 92.0678 139.681 97.8827 141.35 104.44H163.75C164.476 101.562 165.622 98.8057 167.15 96.2605L127.45 56.5605C121.071 60.3522 113.526 61.6823 106.235 60.3005C98.9443 58.9187 92.4094 54.9203 87.8602 49.0574C83.3109 43.1946 81.0609 35.8714 81.5332 28.4656C82.0056 21.0599 85.1679 14.0819 90.4252 8.8446C95.6824 3.60726 102.672 0.471508 110.08 0.0272655C117.487 -0.416977 124.802 1.86091 130.647 6.4324C136.493 11.0039 140.467 17.5539 141.821 24.8501C143.175 32.1463 141.816 39.6859 138 46.0505L177.69 85.7505C182.31 82.9877 187.58 81.4995 192.962 81.4375C198.345 81.3755 203.648 82.742 208.33 85.3976C213.012 88.0532 216.907 91.9029 219.616 96.5544C222.326 101.206 223.753 106.492 223.753 111.875C223.753 117.258 222.326 122.545 219.616 127.197C216.907 131.848 213.012 135.698 208.33 138.353C203.648 141.009 198.345 142.375 192.962 142.313C187.58 142.251 182.31 140.763 177.69 138L138 177.7C141.808 184.071 143.155 191.614 141.79 198.91C140.424 206.205 136.44 212.75 130.585 217.313C124.731 221.875 117.412 224.141 110.004 223.683C102.596 223.226 95.6103 220.077 90.3621 214.828C85.1139 209.58 81.9647 202.595 81.5072 195.187C81.0497 187.779 83.3154 180.459 87.878 174.605C92.4405 168.751 98.9853 164.766 106.281 163.401C113.576 162.035 121.119 163.383 127.49 167.19L167.19 127.49C165.664 124.941 164.518 122.182 163.79 119.3H141.39C139.721 125.858 135.915 131.673 130.573 135.826C125.231 139.98 118.657 142.234 111.89 142.234C105.123 142.234 98.5494 139.98 93.2071 135.826C87.8648 131.673 84.0587 125.858 82.39 119.3H60C58.1878 126.495 53.8086 132.78 47.6863 136.971C41.5641 141.163 34.1211 142.972 26.7579 142.059C19.3947 141.146 12.6191 137.574 7.70605 132.014C2.79302 126.454 0.0813599 119.29 0.0813599 111.87C0.0813599 104.451 2.79302 97.2871 7.70605 91.7272C12.6191 86.1673 19.3947 82.5947 26.7579 81.6817C34.1211 80.7686 41.5641 82.5781 47.6863 86.7696C53.8086 90.9611 58.1878 97.2456 60 104.44H82.35ZM100.86 204.32C103.407 206.868 106.759 208.453 110.345 208.806C113.93 209.159 117.527 208.258 120.522 206.256C123.517 204.254 125.725 201.276 126.771 197.828C127.816 194.38 127.633 190.677 126.253 187.349C124.874 184.021 122.383 181.274 119.205 179.577C116.027 177.88 112.359 177.337 108.826 178.042C105.293 178.746 102.113 180.654 99.8291 183.44C97.5451 186.226 96.2979 189.718 96.3 193.32C96.2985 195.364 96.7006 197.388 97.4831 199.275C98.2656 201.163 99.4132 202.877 100.86 204.32ZM204.32 122.88C206.868 120.333 208.453 116.981 208.806 113.396C209.159 109.811 208.258 106.214 206.256 103.219C204.254 100.223 201.275 98.0151 197.827 96.97C194.38 95.9249 190.676 96.1077 187.348 97.4873C184.02 98.8669 181.274 101.358 179.577 104.536C177.879 107.714 177.337 111.382 178.041 114.915C178.746 118.448 180.653 121.627 183.439 123.911C186.226 126.195 189.717 127.443 193.32 127.44C195.364 127.443 197.388 127.042 199.275 126.259C201.163 125.476 202.878 124.328 204.32 122.88ZM122.88 19.4205C120.333 16.8729 116.981 15.2876 113.395 14.9347C109.81 14.5817 106.213 15.483 103.218 17.4849C100.223 19.4868 98.0146 22.4654 96.9696 25.9131C95.9245 29.3608 96.1073 33.0642 97.4869 36.3922C98.8665 39.7202 101.358 42.4668 104.535 44.1639C107.713 45.861 111.381 46.4036 114.914 45.6992C118.447 44.9949 121.627 43.0871 123.911 40.301C126.195 37.515 127.442 34.0231 127.44 30.4205C127.44 28.3772 127.038 26.3539 126.255 24.4664C125.473 22.5788 124.326 20.8642 122.88 19.4205ZM19.42 100.86C16.8725 103.408 15.2872 106.76 14.9342 110.345C14.5813 113.93 15.4826 117.527 17.4844 120.522C19.4863 123.518 22.4649 125.726 25.9127 126.771C29.3604 127.816 33.0638 127.633 36.3918 126.254C39.7198 124.874 42.4664 122.383 44.1635 119.205C45.8606 116.027 46.4032 112.359 45.6988 108.826C44.9944 105.293 43.0866 102.114 40.3006 99.8296C37.5145 97.5455 34.0227 96.2983 30.42 96.3005C26.2938 96.3018 22.337 97.9421 19.42 100.86ZM100.86 100.86C98.3125 103.408 96.7272 106.76 96.3742 110.345C96.0213 113.93 96.9226 117.527 98.9244 120.522C100.926 123.518 103.905 125.726 107.353 126.771C110.8 127.816 114.504 127.633 117.832 126.254C121.16 124.874 123.906 122.383 125.604 119.205C127.301 116.027 127.843 112.359 127.139 108.826C126.434 105.293 124.527 102.114 121.741 99.8296C118.955 97.5455 115.463 96.2983 111.86 96.3005C109.817 96.299 107.793 96.701 105.905 97.4835C104.018 98.2661 102.303 99.4136 100.86 100.86Z\" fill=\"#00AEEF\"/>\n",
       "    </g>\n",
       "    <defs>\n",
       "        <clipPath id=\"clip0_4338_178347\">\n",
       "            <rect width=\"566.93\" height=\"223.75\" fill=\"white\"/>\n",
       "        </clipPath>\n",
       "    </defs>\n",
       "  </svg>\n",
       "</div>\n",
       "\n",
       "        <table class=\"jp-RenderedHTMLCommon\" style=\"border-collapse: collapse;color: var(--jp-ui-font-color1);font-size: var(--jp-ui-font-size1);\">\n",
       "    <tr>\n",
       "        <td style=\"text-align: left\"><b>Python version:</b></td>\n",
       "        <td style=\"text-align: left\"><b>3.12.6</b></td>\n",
       "    </tr>\n",
       "    <tr>\n",
       "        <td style=\"text-align: left\"><b>Ray version:</b></td>\n",
       "        <td style=\"text-align: left\"><b>2.39.0</b></td>\n",
       "    </tr>\n",
       "    \n",
       "</table>\n",
       "\n",
       "    </div>\n",
       "</div>\n"
      ],
      "text/plain": [
       "RayContext(dashboard_url='', python_version='3.12.6', ray_version='2.39.0', ray_commit='5a6c33536df3f6ed5e987a169b82739bb7e3d80e')"
      ]
     },
     "execution_count": 2,
     "metadata": {},
     "output_type": "execute_result"
    },
    {
     "name": "stdout",
     "output_type": "stream",
     "text": [
      "\u001b[33m(raylet)\u001b[0m Warning: The actor ImplicitFunc is very large (42 MiB). Check that its definition is not implicitly capturing a large array or other object in scope. Tip: use ray.put() to put large objects in the Ray object store.\n"
     ]
    }
   ],
   "source": [
    "import ray\n",
    "ray.init()"
   ]
  },
  {
   "cell_type": "code",
   "execution_count": 3,
   "id": "e5c98be4-f12c-4d00-9ca6-d21ab576b9e6",
   "metadata": {},
   "outputs": [],
   "source": [
    "reference_date = pd.to_datetime(\"2023-01-01\")"
   ]
  },
  {
   "cell_type": "code",
   "execution_count": 4,
   "id": "1321700a-4039-4d20-a0fc-3cb6109cf7f1",
   "metadata": {},
   "outputs": [],
   "source": [
    "train_df = pd.read_csv(\"./data/train_data_after_EDA.csv\", index_col=\"Claim Identifier\")"
   ]
  },
  {
   "cell_type": "code",
   "execution_count": 5,
   "id": "cca50cdf-fe16-440a-9774-75157845ab70",
   "metadata": {},
   "outputs": [],
   "source": [
    "numerical_features = [\n",
    "    \"Age at Injury\",\n",
    "    \"WCIO Cause of Injury Code\",\n",
    "    \"WCIO Nature of Injury Code\",\n",
    "    \"WCIO Part Of Body Code\",\n",
    "    \"Number of Dependents\",\n",
    "    \"Years Past Accident\",\n",
    "    \"Assembly Years past Accident\",\n",
    "    \"Industry Code\",\n",
    "    \"Birth Year\",\n",
    "    \"Average Weekly Wage\",\n",
    "    \"IME-4 Count\"\n",
    "]\n",
    "\n",
    "categorical_features = [\n",
    "    \"Carrier Name\",\n",
    "    \"Carrier Type\",\n",
    "    \"County of Injury\",\n",
    "    \"District Name\",\n",
    "    \"Gender\",\n",
    "    \"Medical Fee Region\",\n",
    "    \"Zip Code\"\n",
    "]\n",
    "\n",
    "binary_features = [\n",
    "    \"Alternative Dispute Resolution\",\n",
    "    \"Attorney/Representative\",\n",
    "    \"COVID-19 Indicator\",\n",
    "    \"First Hearing Date Occurred\",\n",
    "    \"C-2 Date Occurred\",\n",
    "    \"C-3 Date Occurred\"\n",
    "]\n"
   ]
  },
  {
   "cell_type": "code",
   "execution_count": 6,
   "id": "062b51ae-e71b-4168-aa59-a39e20f84993",
   "metadata": {},
   "outputs": [
    {
     "name": "stdout",
     "output_type": "stream",
     "text": [
      "-------\n",
      "Accident Date\n",
      "Claim Injury Type\n"
     ]
    }
   ],
   "source": [
    "for col in numerical_features+categorical_features+binary_features:\n",
    "    if col not in train_df.columns:\n",
    "        print(col)\n",
    "print(\"-------\")\n",
    "for col in train_df.columns:\n",
    "    if col not in numerical_features+categorical_features+binary_features:\n",
    "        print(col)"
   ]
  },
  {
   "cell_type": "markdown",
   "id": "6712023f-1701-42a9-b04d-c240793e07d4",
   "metadata": {},
   "source": [
    "# Remove Some NAs"
   ]
  },
  {
   "cell_type": "code",
   "execution_count": 7,
   "id": "27f99626-72f7-4f75-b99e-c93199c98bbc",
   "metadata": {},
   "outputs": [],
   "source": [
    "train_df.dropna(subset = [\"Accident Date\", \"Age at Injury\",\"Birth Year\",\"Years Past Accident\",\"Assembly Years past Accident\"], inplace=True)"
   ]
  },
  {
   "cell_type": "code",
   "execution_count": 8,
   "id": "6a08cbac-a73a-4352-907e-6b7440d99923",
   "metadata": {},
   "outputs": [],
   "source": [
    "X = train_df.drop([\"Claim Injury Type\"], axis = 1)\n",
    "y = train_df[\"Claim Injury Type\"]"
   ]
  },
  {
   "cell_type": "code",
   "execution_count": 9,
   "id": "b083e626-4e07-4c7b-b2ef-010e0a145ab4",
   "metadata": {},
   "outputs": [],
   "source": [
    "# Install Ray and Cuda\n",
    "\n",
    "# What to do with NAs in Wage (and Industry Code)\n",
    "\n",
    "# Model Selection\n",
    "\n",
    "    # Feature Selection\n",
    "\n",
    "    # Kfold load (Have a script that will create 3 versions for Kfold for 4-6 folds)\n",
    "    # Impute\n",
    "\n",
    "    # Which models (catboosted)\n",
    "    # Compare validation to 10% test\n",
    "\n",
    "# Model Gridsearch\n",
    "    # Find 2-3 models that are good\n",
    "    # Look at the parameters and create dict with them\n",
    "    # Run Ray.Tune on models and paramenter - how?\n",
    "    # Compare best for each model to 10%\n",
    "\n",
    "# Test Predict\n",
    "    # Train best model\n",
    "    # Predict\n",
    "    # Profit\n",
    "\n",
    "# Need to create function"
   ]
  },
  {
   "cell_type": "markdown",
   "id": "6d2a9442-a7db-44e8-a588-401211cf380c",
   "metadata": {},
   "source": [
    "# 10% data split"
   ]
  },
  {
   "cell_type": "code",
   "execution_count": 10,
   "id": "4e211a06-b373-4734-810c-0e3f0bddacff",
   "metadata": {},
   "outputs": [],
   "source": [
    " X, X_test, y, y_test = train_test_split(X,y, test_size = 0.1, random_state = None, stratify = y, shuffle = True)"
   ]
  },
  {
   "cell_type": "markdown",
   "id": "66cdcb89-5456-42d0-9466-22e619068021",
   "metadata": {},
   "source": [
    "## Train Val Split"
   ]
  },
  {
   "cell_type": "code",
   "execution_count": 11,
   "id": "e15b8978-6bd8-4eba-9797-939951e0d2ed",
   "metadata": {},
   "outputs": [],
   "source": [
    " X_train, X_val, y_train, y_val = train_test_split(X,y, test_size = 0.25, random_state = None, stratify = y, shuffle = True)"
   ]
  },
  {
   "cell_type": "markdown",
   "id": "7f1c5f66-a960-4809-878d-642ccdf8b28f",
   "metadata": {},
   "source": [
    "## Impute NAs"
   ]
  },
  {
   "cell_type": "code",
   "execution_count": 12,
   "id": "cf14f3f7-7644-4635-8ac9-ad0e88935420",
   "metadata": {},
   "outputs": [],
   "source": [
    "to_impute = [\"Average Weekly Wage\",\"Industry Code\"]\n",
    "percent_missing = X_train[to_impute].isnull().mean()\n",
    "imputation_value = percent_missing / ((1 / 0.97) - 1)\n",
    "for col in to_impute:\n",
    "        X_train[col].fillna(imputation_value[col], inplace=True)\n",
    "        X_val[col].fillna(imputation_value[col], inplace=True)"
   ]
  },
  {
   "cell_type": "markdown",
   "id": "f8654215-d37e-4e2e-803c-ec15e9cfce75",
   "metadata": {},
   "source": [
    "# Apply Feature Selection"
   ]
  },
  {
   "cell_type": "code",
   "execution_count": 13,
   "id": "34e474ec-00b0-4725-8988-f98cc9cc4225",
   "metadata": {},
   "outputs": [],
   "source": [
    "features_to_drop = [\"Number of Dependents\",\"Assembly Years past Accident\",\"Birth Year\",\n",
    "                   \"Age at Injury\",\"WCIO Part Of Body Code\",\"WCIO Cause of Injury Code\",\"Accident Date\"\n",
    "                   ]\n",
    "features_to_scale = [\"IME-4 Count\",\"WCIO Nature of Injury Code\",\n",
    "                     \"Years Past Accident\",\"Industry Code\",\"Average Weekly Wage\"] + categorical_features"
   ]
  },
  {
   "cell_type": "code",
   "execution_count": 14,
   "id": "ae2f9b40-15dc-4cbc-a8fe-c7c8768242ad",
   "metadata": {},
   "outputs": [],
   "source": [
    "scaler = StandardScaler().fit(X_train[features_to_scale])\n",
    "X_train[features_to_scale] = scaler.transform(X_train[features_to_scale])\n",
    "X_val[features_to_scale] = scaler.transform(X_val[features_to_scale])"
   ]
  },
  {
   "cell_type": "code",
   "execution_count": 15,
   "id": "8a0c39f7-2ec2-49b5-aa90-32606c4cf662",
   "metadata": {},
   "outputs": [],
   "source": [
    "X_train.drop(features_to_drop, axis=1, inplace=True)\n",
    "X_val.drop(features_to_drop, axis=1, inplace=True)"
   ]
  },
  {
   "cell_type": "code",
   "execution_count": 16,
   "id": "a257b3de-2897-4f56-97dc-f1ef5bda0b09",
   "metadata": {},
   "outputs": [],
   "source": [
    "def XGB_GridSearch(config):\n",
    "\n",
    "    X_train = ray.get(X_train_ref)\n",
    "    y_train = ray.get(y_train_ref)\n",
    "    \n",
    "    # Create and fit the model\n",
    "    model = xgb.XGBClassifier(\n",
    "        max_depth=config[\"max_depth\"],\n",
    "        learning_rate=config[\"learning_rate\"],\n",
    "        n_estimators=config[\"n_estimators\"]\n",
    "    )\n",
    "    \n",
    "    model.fit(X_train, y_train)\n",
    "    \n",
    "    # Validation Predictions and F1 Score\n",
    "    preds = model.predict(X_val)\n",
    "    f1 = f1_score(y_val, preds, average=\"macro\")\n",
    "\n",
    "    # Report Results to Ray\n",
    "    session.report({\"f1_score\": f1})"
   ]
  },
  {
   "cell_type": "code",
   "execution_count": 17,
   "id": "9b440bab-b886-47b5-b40c-eb58880a141e",
   "metadata": {},
   "outputs": [],
   "source": [
    "from ray import tune\n",
    "from ray.tune.schedulers import ASHAScheduler\n",
    "from ray.air import session"
   ]
  },
  {
   "cell_type": "code",
   "execution_count": 18,
   "id": "5463d2bf-e559-4e52-bed1-1a7381c80558",
   "metadata": {},
   "outputs": [
    {
     "data": {
      "text/html": [
       "<div class=\"tuneStatus\">\n",
       "  <div style=\"display: flex;flex-direction: row\">\n",
       "    <div style=\"display: flex;flex-direction: column;\">\n",
       "      <h3>Tune Status</h3>\n",
       "      <table>\n",
       "<tbody>\n",
       "<tr><td>Current time:</td><td>2024-11-19 12:34:18</td></tr>\n",
       "<tr><td>Running for: </td><td>00:08:04.10        </td></tr>\n",
       "<tr><td>Memory:      </td><td>9.6/15.8 GiB       </td></tr>\n",
       "</tbody>\n",
       "</table>\n",
       "    </div>\n",
       "    <div class=\"vDivider\"></div>\n",
       "    <div class=\"systemInfo\">\n",
       "      <h3>System Info</h3>\n",
       "      Using AsyncHyperBand: num_stopped=10<br>Bracket: Iter 64.000: None | Iter 16.000: None | Iter 4.000: None | Iter 1.000: 0.4122017011855462<br>Logical resource usage: 1.0/8 CPUs, 0/0 GPUs\n",
       "    </div>\n",
       "    \n",
       "  </div>\n",
       "  <div class=\"hDivider\"></div>\n",
       "  <div class=\"trialStatus\">\n",
       "    <h3>Trial Status</h3>\n",
       "    <table>\n",
       "<thead>\n",
       "<tr><th>Trial name                </th><th>status    </th><th>loc            </th><th style=\"text-align: right;\">  learning_rate</th><th style=\"text-align: right;\">  max_depth</th><th style=\"text-align: right;\">  n_estimators</th><th style=\"text-align: right;\">  iter</th><th style=\"text-align: right;\">  total time (s)</th><th style=\"text-align: right;\">  f1_score</th></tr>\n",
       "</thead>\n",
       "<tbody>\n",
       "<tr><td>XGB_GridSearch_77b9a_00000</td><td>TERMINATED</td><td>127.0.0.1:16360</td><td style=\"text-align: right;\">           0.01</td><td style=\"text-align: right;\">          3</td><td style=\"text-align: right;\">            50</td><td style=\"text-align: right;\">     1</td><td style=\"text-align: right;\">         39.668 </td><td style=\"text-align: right;\">  0.301677</td></tr>\n",
       "<tr><td>XGB_GridSearch_77b9a_00001</td><td>TERMINATED</td><td>127.0.0.1:16408</td><td style=\"text-align: right;\">           0.1 </td><td style=\"text-align: right;\">          3</td><td style=\"text-align: right;\">            50</td><td style=\"text-align: right;\">     1</td><td style=\"text-align: right;\">         41.5571</td><td style=\"text-align: right;\">  0.343747</td></tr>\n",
       "<tr><td>XGB_GridSearch_77b9a_00002</td><td>TERMINATED</td><td>127.0.0.1:12660</td><td style=\"text-align: right;\">           0.2 </td><td style=\"text-align: right;\">          3</td><td style=\"text-align: right;\">            50</td><td style=\"text-align: right;\">     1</td><td style=\"text-align: right;\">         42.0366</td><td style=\"text-align: right;\">  0.351795</td></tr>\n",
       "<tr><td>XGB_GridSearch_77b9a_00003</td><td>TERMINATED</td><td>127.0.0.1:2540 </td><td style=\"text-align: right;\">           0.01</td><td style=\"text-align: right;\">          5</td><td style=\"text-align: right;\">            50</td><td style=\"text-align: right;\">     1</td><td style=\"text-align: right;\">         45.6763</td><td style=\"text-align: right;\">  0.340776</td></tr>\n",
       "<tr><td>XGB_GridSearch_77b9a_00004</td><td>TERMINATED</td><td>127.0.0.1:19204</td><td style=\"text-align: right;\">           0.1 </td><td style=\"text-align: right;\">          5</td><td style=\"text-align: right;\">            50</td><td style=\"text-align: right;\">     1</td><td style=\"text-align: right;\">         46.2984</td><td style=\"text-align: right;\">  0.357443</td></tr>\n",
       "<tr><td>XGB_GridSearch_77b9a_00005</td><td>TERMINATED</td><td>127.0.0.1:7272 </td><td style=\"text-align: right;\">           0.2 </td><td style=\"text-align: right;\">          5</td><td style=\"text-align: right;\">            50</td><td style=\"text-align: right;\">     1</td><td style=\"text-align: right;\">         46.2227</td><td style=\"text-align: right;\">  0.380638</td></tr>\n",
       "<tr><td>XGB_GridSearch_77b9a_00006</td><td>TERMINATED</td><td>127.0.0.1:15528</td><td style=\"text-align: right;\">           0.01</td><td style=\"text-align: right;\">          7</td><td style=\"text-align: right;\">            50</td><td style=\"text-align: right;\">     1</td><td style=\"text-align: right;\">         48.7423</td><td style=\"text-align: right;\">  0.35342 </td></tr>\n",
       "<tr><td>XGB_GridSearch_77b9a_00007</td><td>TERMINATED</td><td>127.0.0.1:20616</td><td style=\"text-align: right;\">           0.1 </td><td style=\"text-align: right;\">          7</td><td style=\"text-align: right;\">            50</td><td style=\"text-align: right;\">     1</td><td style=\"text-align: right;\">         52.4735</td><td style=\"text-align: right;\">  0.392322</td></tr>\n",
       "<tr><td>XGB_GridSearch_77b9a_00008</td><td>TERMINATED</td><td>127.0.0.1:15948</td><td style=\"text-align: right;\">           0.2 </td><td style=\"text-align: right;\">          7</td><td style=\"text-align: right;\">            50</td><td style=\"text-align: right;\">     1</td><td style=\"text-align: right;\">         59.5732</td><td style=\"text-align: right;\">  0.412069</td></tr>\n",
       "<tr><td>XGB_GridSearch_77b9a_00009</td><td>TERMINATED</td><td>127.0.0.1:4052 </td><td style=\"text-align: right;\">           0.01</td><td style=\"text-align: right;\">          3</td><td style=\"text-align: right;\">           100</td><td style=\"text-align: right;\">     1</td><td style=\"text-align: right;\">         90.241 </td><td style=\"text-align: right;\">  0.304668</td></tr>\n",
       "<tr><td>XGB_GridSearch_77b9a_00010</td><td>TERMINATED</td><td>127.0.0.1:8344 </td><td style=\"text-align: right;\">           0.1 </td><td style=\"text-align: right;\">          3</td><td style=\"text-align: right;\">           100</td><td style=\"text-align: right;\">     1</td><td style=\"text-align: right;\">         87.8951</td><td style=\"text-align: right;\">  0.351455</td></tr>\n",
       "<tr><td>XGB_GridSearch_77b9a_00011</td><td>TERMINATED</td><td>127.0.0.1:11088</td><td style=\"text-align: right;\">           0.2 </td><td style=\"text-align: right;\">          3</td><td style=\"text-align: right;\">           100</td><td style=\"text-align: right;\">     1</td><td style=\"text-align: right;\">         95.5241</td><td style=\"text-align: right;\">  0.37155 </td></tr>\n",
       "<tr><td>XGB_GridSearch_77b9a_00012</td><td>TERMINATED</td><td>127.0.0.1:16164</td><td style=\"text-align: right;\">           0.01</td><td style=\"text-align: right;\">          5</td><td style=\"text-align: right;\">           100</td><td style=\"text-align: right;\">     1</td><td style=\"text-align: right;\">        104.456 </td><td style=\"text-align: right;\">  0.339757</td></tr>\n",
       "<tr><td>XGB_GridSearch_77b9a_00013</td><td>TERMINATED</td><td>127.0.0.1:12904</td><td style=\"text-align: right;\">           0.1 </td><td style=\"text-align: right;\">          5</td><td style=\"text-align: right;\">           100</td><td style=\"text-align: right;\">     1</td><td style=\"text-align: right;\">        112.079 </td><td style=\"text-align: right;\">  0.37193 </td></tr>\n",
       "<tr><td>XGB_GridSearch_77b9a_00014</td><td>TERMINATED</td><td>127.0.0.1:12968</td><td style=\"text-align: right;\">           0.2 </td><td style=\"text-align: right;\">          5</td><td style=\"text-align: right;\">           100</td><td style=\"text-align: right;\">     1</td><td style=\"text-align: right;\">        111.706 </td><td style=\"text-align: right;\">  0.419417</td></tr>\n",
       "<tr><td>XGB_GridSearch_77b9a_00015</td><td>TERMINATED</td><td>127.0.0.1:5656 </td><td style=\"text-align: right;\">           0.01</td><td style=\"text-align: right;\">          7</td><td style=\"text-align: right;\">           100</td><td style=\"text-align: right;\">     1</td><td style=\"text-align: right;\">        110.175 </td><td style=\"text-align: right;\">  0.351706</td></tr>\n",
       "<tr><td>XGB_GridSearch_77b9a_00016</td><td>TERMINATED</td><td>127.0.0.1:14900</td><td style=\"text-align: right;\">           0.1 </td><td style=\"text-align: right;\">          7</td><td style=\"text-align: right;\">           100</td><td style=\"text-align: right;\">     1</td><td style=\"text-align: right;\">        119.128 </td><td style=\"text-align: right;\">  0.412334</td></tr>\n",
       "<tr><td>XGB_GridSearch_77b9a_00017</td><td>TERMINATED</td><td>127.0.0.1:22008</td><td style=\"text-align: right;\">           0.2 </td><td style=\"text-align: right;\">          7</td><td style=\"text-align: right;\">           100</td><td style=\"text-align: right;\">     1</td><td style=\"text-align: right;\">        114.561 </td><td style=\"text-align: right;\">  0.420361</td></tr>\n",
       "<tr><td>XGB_GridSearch_77b9a_00018</td><td>TERMINATED</td><td>127.0.0.1:4672 </td><td style=\"text-align: right;\">           0.01</td><td style=\"text-align: right;\">          3</td><td style=\"text-align: right;\">           200</td><td style=\"text-align: right;\">     1</td><td style=\"text-align: right;\">        154.606 </td><td style=\"text-align: right;\">  0.316315</td></tr>\n",
       "<tr><td>XGB_GridSearch_77b9a_00019</td><td>TERMINATED</td><td>127.0.0.1:20956</td><td style=\"text-align: right;\">           0.1 </td><td style=\"text-align: right;\">          3</td><td style=\"text-align: right;\">           200</td><td style=\"text-align: right;\">     1</td><td style=\"text-align: right;\">        171.423 </td><td style=\"text-align: right;\">  0.36656 </td></tr>\n",
       "<tr><td>XGB_GridSearch_77b9a_00020</td><td>TERMINATED</td><td>127.0.0.1:14560</td><td style=\"text-align: right;\">           0.2 </td><td style=\"text-align: right;\">          3</td><td style=\"text-align: right;\">           200</td><td style=\"text-align: right;\">     1</td><td style=\"text-align: right;\">        163.712 </td><td style=\"text-align: right;\">  0.401572</td></tr>\n",
       "<tr><td>XGB_GridSearch_77b9a_00021</td><td>TERMINATED</td><td>127.0.0.1:20312</td><td style=\"text-align: right;\">           0.01</td><td style=\"text-align: right;\">          5</td><td style=\"text-align: right;\">           200</td><td style=\"text-align: right;\">     1</td><td style=\"text-align: right;\">        183.684 </td><td style=\"text-align: right;\">  0.345086</td></tr>\n",
       "<tr><td>XGB_GridSearch_77b9a_00022</td><td>TERMINATED</td><td>127.0.0.1:21652</td><td style=\"text-align: right;\">           0.1 </td><td style=\"text-align: right;\">          5</td><td style=\"text-align: right;\">           200</td><td style=\"text-align: right;\">     1</td><td style=\"text-align: right;\">        193.291 </td><td style=\"text-align: right;\">  0.416672</td></tr>\n",
       "<tr><td>XGB_GridSearch_77b9a_00023</td><td>TERMINATED</td><td>127.0.0.1:20048</td><td style=\"text-align: right;\">           0.2 </td><td style=\"text-align: right;\">          5</td><td style=\"text-align: right;\">           200</td><td style=\"text-align: right;\">     1</td><td style=\"text-align: right;\">        195.245 </td><td style=\"text-align: right;\">  0.426895</td></tr>\n",
       "<tr><td>XGB_GridSearch_77b9a_00024</td><td>TERMINATED</td><td>127.0.0.1:17196</td><td style=\"text-align: right;\">           0.01</td><td style=\"text-align: right;\">          7</td><td style=\"text-align: right;\">           200</td><td style=\"text-align: right;\">     1</td><td style=\"text-align: right;\">        160.123 </td><td style=\"text-align: right;\">  0.354686</td></tr>\n",
       "<tr><td>XGB_GridSearch_77b9a_00025</td><td>TERMINATED</td><td>127.0.0.1:9136 </td><td style=\"text-align: right;\">           0.1 </td><td style=\"text-align: right;\">          7</td><td style=\"text-align: right;\">           200</td><td style=\"text-align: right;\">     1</td><td style=\"text-align: right;\">        156.717 </td><td style=\"text-align: right;\">  0.424809</td></tr>\n",
       "<tr><td>XGB_GridSearch_77b9a_00026</td><td>TERMINATED</td><td>127.0.0.1:3212 </td><td style=\"text-align: right;\">           0.2 </td><td style=\"text-align: right;\">          7</td><td style=\"text-align: right;\">           200</td><td style=\"text-align: right;\">     1</td><td style=\"text-align: right;\">        136.274 </td><td style=\"text-align: right;\">  0.424536</td></tr>\n",
       "</tbody>\n",
       "</table>\n",
       "  </div>\n",
       "</div>\n",
       "<style>\n",
       ".tuneStatus {\n",
       "  color: var(--jp-ui-font-color1);\n",
       "}\n",
       ".tuneStatus .systemInfo {\n",
       "  display: flex;\n",
       "  flex-direction: column;\n",
       "}\n",
       ".tuneStatus td {\n",
       "  white-space: nowrap;\n",
       "}\n",
       ".tuneStatus .trialStatus {\n",
       "  display: flex;\n",
       "  flex-direction: column;\n",
       "}\n",
       ".tuneStatus h3 {\n",
       "  font-weight: bold;\n",
       "}\n",
       ".tuneStatus .hDivider {\n",
       "  border-bottom-width: var(--jp-border-width);\n",
       "  border-bottom-color: var(--jp-border-color0);\n",
       "  border-bottom-style: solid;\n",
       "}\n",
       ".tuneStatus .vDivider {\n",
       "  border-left-width: var(--jp-border-width);\n",
       "  border-left-color: var(--jp-border-color0);\n",
       "  border-left-style: solid;\n",
       "  margin: 0.5em 1em 0.5em 1em;\n",
       "}\n",
       "</style>\n"
      ],
      "text/plain": [
       "<IPython.core.display.HTML object>"
      ]
     },
     "metadata": {},
     "output_type": "display_data"
    },
    {
     "name": "stderr",
     "output_type": "stream",
     "text": [
      "2024-11-19 12:34:18,354\tINFO tune.py:1009 -- Wrote the latest version of all result files and experiment state to 'C:/Users/ruipb/ray_results/XGB_GridSearch_2024-11-19_12-26-14' in 0.0612s.\n",
      "2024-11-19 12:34:18,374\tINFO tune.py:1041 -- Total run time: 484.37 seconds (484.03 seconds for the tuning loop).\n"
     ]
    }
   ],
   "source": [
    "X_train_ref = ray.put(X_train)\n",
    "y_train_ref = ray.put(y_train)\n",
    "\n",
    "# Define the hyperparameter search space\n",
    "search_space = {\n",
    "    \"max_depth\": tune.grid_search([3, 5, 7]),\n",
    "    \"learning_rate\": tune.grid_search([0.01, 0.1, 0.2]),\n",
    "    \"n_estimators\": tune.grid_search([50, 100, 200])\n",
    "}\n",
    "\n",
    "# Execute the grid search\n",
    "analysis = tune.run(\n",
    "    XGB_GridSearch,\n",
    "    config=search_space,\n",
    "    resources_per_trial={\"cpu\": 1},  # Allocate 1 CPU per trial\n",
    "    scheduler=ASHAScheduler(metric=\"f1_score\", mode=\"max\"),  # Manage trials efficiently\n",
    "    verbose=1\n",
    ")"
   ]
  },
  {
   "cell_type": "code",
   "execution_count": null,
   "id": "ddfb0b3f-17ed-4188-a9aa-80f3a89025cc",
   "metadata": {},
   "outputs": [],
   "source": []
  },
  {
   "cell_type": "code",
   "execution_count": 19,
   "id": "0f754892-25e3-4ef3-8b3b-039614fb8146",
   "metadata": {},
   "outputs": [
    {
     "name": "stdout",
     "output_type": "stream",
     "text": [
      "Best hyperparameters: {'max_depth': 5, 'learning_rate': 0.2, 'n_estimators': 200}\n"
     ]
    }
   ],
   "source": [
    "# Retrieve the best configuration\n",
    "best_config = analysis.get_best_config(metric=\"f1_score\", mode=\"max\")\n",
    "print(f\"Best hyperparameters: {best_config}\")"
   ]
  },
  {
   "cell_type": "code",
   "execution_count": 20,
   "id": "823a1492-b673-4d42-b148-96ca08ae3200",
   "metadata": {},
   "outputs": [],
   "source": [
    "X_test[features_to_scale] = scaler.transform(X_test[features_to_scale])\n",
    "X_test.drop(features_to_drop, axis=1, inplace=True)"
   ]
  },
  {
   "cell_type": "code",
   "execution_count": 21,
   "id": "213ac50b-3d01-4d76-b6e3-0528264f1bcf",
   "metadata": {},
   "outputs": [],
   "source": [
    "# Instantiate the model with the best configuration\n",
    "model = xgb.XGBClassifier(**best_config)\n",
    "\n",
    "# Train the model on the training dataset\n",
    "model.fit(X_train, y_train)\n",
    "\n",
    "# Predict on the test set\n",
    "y_pred = model.predict(X_test)"
   ]
  },
  {
   "cell_type": "code",
   "execution_count": 22,
   "id": "0c28ee75-93be-41c5-91ac-1d9236eb8636",
   "metadata": {},
   "outputs": [
    {
     "name": "stdout",
     "output_type": "stream",
     "text": [
      "              precision    recall  f1-score   support\n",
      "\n",
      "           0       0.74      0.49      0.59      1074\n",
      "           1       0.86      0.93      0.90     28803\n",
      "           2       0.49      0.07      0.13      6862\n",
      "           3       0.66      0.90      0.76     14791\n",
      "           4       0.67      0.53      0.59      4826\n",
      "           5       0.00      0.00      0.00       421\n",
      "           6       0.00      0.00      0.00        10\n",
      "           7       0.43      0.21      0.29        47\n",
      "\n",
      "    accuracy                           0.77     56834\n",
      "   macro avg       0.48      0.39      0.41     56834\n",
      "weighted avg       0.74      0.77      0.73     56834\n",
      "\n"
     ]
    }
   ],
   "source": [
    "print(classification_report(y_test, y_pred))"
   ]
  },
  {
   "cell_type": "code",
   "execution_count": null,
   "id": "b34b993a-3929-4814-895c-a81cfd097190",
   "metadata": {},
   "outputs": [],
   "source": [
    "#import joblib\n",
    "\n",
    "#joblib.dump(model, \"best_xgb_model.pkl\")\n",
    "\n",
    "# model = joblib.load(\"best_xgb_model.pkl\")"
   ]
  }
 ],
 "metadata": {
  "kernelspec": {
   "display_name": "Python 3 (ipykernel)",
   "language": "python",
   "name": "python3"
  },
  "language_info": {
   "codemirror_mode": {
    "name": "ipython",
    "version": 3
   },
   "file_extension": ".py",
   "mimetype": "text/x-python",
   "name": "python",
   "nbconvert_exporter": "python",
   "pygments_lexer": "ipython3",
   "version": "3.12.6"
  }
 },
 "nbformat": 4,
 "nbformat_minor": 5
}
