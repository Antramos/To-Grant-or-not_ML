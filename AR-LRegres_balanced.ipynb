{
 "cells": [
  {
   "cell_type": "markdown",
   "id": "0d33940a-f58e-45f5-ac5a-2487d3d81d2a",
   "metadata": {},
   "source": [
    "## IMPORTS"
   ]
  },
  {
   "cell_type": "code",
   "execution_count": 2,
   "id": "6fbe32d8-e082-4f77-b20f-dde091d68ff2",
   "metadata": {},
   "outputs": [],
   "source": [
    "import pandas as pd\n",
    "import numpy as np\n",
    "import time \n",
    "import winsound         # for sound  \n",
    "import time             # for sleep\n",
    "from sklearn.datasets import make_classification\n",
    "from sklearn.model_selection import train_test_split, KFold, cross_val_score, GridSearchCV\n",
    "from sklearn.linear_model import LogisticRegression\n",
    "from sklearn.metrics import f1_score, make_scorer,  classification_report\n",
    "from sklearn.preprocessing import StandardScaler\n",
    "import winsound         # for sound  \n",
    "import time             # for sleep"
   ]
  },
  {
   "cell_type": "code",
   "execution_count": 3,
   "id": "5f46d673-4cf1-4f61-acce-46395a6e4cfd",
   "metadata": {},
   "outputs": [],
   "source": [
    "ini_total = time.time()"
   ]
  },
  {
   "cell_type": "markdown",
   "id": "d3b50c2f-6ac2-4b37-b12d-f6550b7d2881",
   "metadata": {},
   "source": [
    "## 1 - Carregando train_df resultado da EDA"
   ]
  },
  {
   "cell_type": "code",
   "execution_count": 5,
   "id": "a6ce88fb-7233-4052-a64e-0af2d6ee7ad5",
   "metadata": {},
   "outputs": [
    {
     "name": "stdout",
     "output_type": "stream",
     "text": [
      "Tempo de execução em segundos: 0.9063689708709717\n",
      "<class 'pandas.core.frame.DataFrame'>\n",
      "RangeIndex: 573740 entries, 0 to 573739\n",
      "Data columns (total 27 columns):\n",
      " #   Column                          Non-Null Count   Dtype  \n",
      "---  ------                          --------------   -----  \n",
      " 0   Claim Identifier                573740 non-null  int64  \n",
      " 1   Accident Date                   570052 non-null  object \n",
      " 2   Age at Injury                   568335 non-null  float64\n",
      " 3   Alternative Dispute Resolution  573740 non-null  int64  \n",
      " 4   Attorney/Representative         573740 non-null  int64  \n",
      " 5   Average Weekly Wage             545105 non-null  float64\n",
      " 6   Birth Year                      571554 non-null  float64\n",
      " 7   Carrier Name                    573740 non-null  float64\n",
      " 8   Carrier Type                    573740 non-null  int64  \n",
      " 9   Claim Injury Type               573740 non-null  int64  \n",
      " 10  County of Injury                573740 non-null  float64\n",
      " 11  COVID-19 Indicator              573740 non-null  int64  \n",
      " 12  District Name                   573740 non-null  float64\n",
      " 13  Gender                          573740 non-null  float64\n",
      " 14  IME-4 Count                     573740 non-null  float64\n",
      " 15  Industry Code                   563793 non-null  float64\n",
      " 16  Medical Fee Region              573740 non-null  float64\n",
      " 17  WCIO Cause of Injury Code       573740 non-null  float64\n",
      " 18  WCIO Nature of Injury Code      573740 non-null  float64\n",
      " 19  WCIO Part Of Body Code          573740 non-null  float64\n",
      " 20  Zip Code                        573740 non-null  float64\n",
      " 21  Number of Dependents            573740 non-null  float64\n",
      " 22  Years Past Accident             570052 non-null  float64\n",
      " 23  First Hearing Date Occurred     573740 non-null  int64  \n",
      " 24  C-2 Date Occurred               573740 non-null  int64  \n",
      " 25  C-3 Date Occurred               573740 non-null  int64  \n",
      " 26  Assembly Years past Accident    570052 non-null  float64\n",
      "dtypes: float64(17), int64(9), object(1)\n",
      "memory usage: 118.2+ MB\n"
     ]
    }
   ],
   "source": [
    "ini = time.time()\n",
    "train_df = pd.read_csv(\"./data/train_data_after_EDA.csv\")\n",
    "fim = time.time()\n",
    "print (\"Tempo de execução em segundos:\", fim - ini)\n",
    "train_df.info()"
   ]
  },
  {
   "cell_type": "code",
   "execution_count": 6,
   "id": "c90b56ad-e755-402e-8202-a2bfe92a55b7",
   "metadata": {},
   "outputs": [
    {
     "name": "stdout",
     "output_type": "stream",
     "text": [
      "Dropando 'Accident Date' e 'Birth Year', conforme EDA\n",
      "<class 'pandas.core.frame.DataFrame'>\n",
      "RangeIndex: 573740 entries, 0 to 573739\n",
      "Data columns (total 25 columns):\n",
      " #   Column                          Non-Null Count   Dtype  \n",
      "---  ------                          --------------   -----  \n",
      " 0   Claim Identifier                573740 non-null  int64  \n",
      " 1   Age at Injury                   568335 non-null  float64\n",
      " 2   Alternative Dispute Resolution  573740 non-null  int64  \n",
      " 3   Attorney/Representative         573740 non-null  int64  \n",
      " 4   Average Weekly Wage             545105 non-null  float64\n",
      " 5   Carrier Name                    573740 non-null  float64\n",
      " 6   Carrier Type                    573740 non-null  int64  \n",
      " 7   Claim Injury Type               573740 non-null  int64  \n",
      " 8   County of Injury                573740 non-null  float64\n",
      " 9   COVID-19 Indicator              573740 non-null  int64  \n",
      " 10  District Name                   573740 non-null  float64\n",
      " 11  Gender                          573740 non-null  float64\n",
      " 12  IME-4 Count                     573740 non-null  float64\n",
      " 13  Industry Code                   563793 non-null  float64\n",
      " 14  Medical Fee Region              573740 non-null  float64\n",
      " 15  WCIO Cause of Injury Code       573740 non-null  float64\n",
      " 16  WCIO Nature of Injury Code      573740 non-null  float64\n",
      " 17  WCIO Part Of Body Code          573740 non-null  float64\n",
      " 18  Zip Code                        573740 non-null  float64\n",
      " 19  Number of Dependents            573740 non-null  float64\n",
      " 20  Years Past Accident             570052 non-null  float64\n",
      " 21  First Hearing Date Occurred     573740 non-null  int64  \n",
      " 22  C-2 Date Occurred               573740 non-null  int64  \n",
      " 23  C-3 Date Occurred               573740 non-null  int64  \n",
      " 24  Assembly Years past Accident    570052 non-null  float64\n",
      "dtypes: float64(16), int64(9)\n",
      "memory usage: 109.4 MB\n"
     ]
    }
   ],
   "source": [
    "train_df = train_df.drop([\"Accident Date\", \"Birth Year\"], axis=1 )\n",
    "print(\"Dropando 'Accident Date' e 'Birth Year', conforme EDA\")\n",
    "train_df.info()"
   ]
  },
  {
   "cell_type": "code",
   "execution_count": 7,
   "id": "d87943d2-6dac-4ed1-963d-c9a7f7ac5e37",
   "metadata": {},
   "outputs": [],
   "source": [
    "#para rodar na marra inicialmente 2, depois tem que fazer as retiradas de nan corretamente\n",
    "#train_df.replace(np.nan, 0, inplace = True)"
   ]
  },
  {
   "cell_type": "code",
   "execution_count": 8,
   "id": "743b5dc8-1985-4c45-8ec0-51ee4c19d018",
   "metadata": {},
   "outputs": [],
   "source": [
    "X = train_df.drop([\"Claim Injury Type\"], axis = 1)\n",
    "y = train_df[\"Claim Injury Type\"]"
   ]
  },
  {
   "cell_type": "code",
   "execution_count": 9,
   "id": "c4ae689b-cf0c-4a85-9f90-2acf91f78e32",
   "metadata": {},
   "outputs": [],
   "source": [
    "# Dividir dados em treino e teste\n",
    "X_train, X_test, y_train, y_test = train_test_split(X, y, test_size=0.2, random_state=42)"
   ]
  },
  {
   "cell_type": "code",
   "execution_count": 10,
   "id": "5bc627fd-c719-4ea4-8648-dde044c3f0dd",
   "metadata": {},
   "outputs": [],
   "source": [
    "X_train_ok = X_train.copy()\n",
    "X_test_ok = X_test.copy()\n",
    "y_train_ok = y_train.copy()\n",
    "y_test_ok = y_test.copy()"
   ]
  },
  {
   "cell_type": "code",
   "execution_count": 11,
   "id": "62ea49cf-d053-4f41-b018-ef7cb3616013",
   "metadata": {},
   "outputs": [
    {
     "name": "stdout",
     "output_type": "stream",
     "text": [
      "<class 'pandas.core.frame.DataFrame'>\n",
      "Index: 458992 entries, 478483 to 121958\n",
      "Data columns (total 24 columns):\n",
      " #   Column                          Non-Null Count   Dtype  \n",
      "---  ------                          --------------   -----  \n",
      " 0   Claim Identifier                458992 non-null  int64  \n",
      " 1   Age at Injury                   454629 non-null  float64\n",
      " 2   Alternative Dispute Resolution  458992 non-null  int64  \n",
      " 3   Attorney/Representative         458992 non-null  int64  \n",
      " 4   Average Weekly Wage             435924 non-null  float64\n",
      " 5   Carrier Name                    458992 non-null  float64\n",
      " 6   Carrier Type                    458992 non-null  int64  \n",
      " 7   County of Injury                458992 non-null  float64\n",
      " 8   COVID-19 Indicator              458992 non-null  int64  \n",
      " 9   District Name                   458992 non-null  float64\n",
      " 10  Gender                          458992 non-null  float64\n",
      " 11  IME-4 Count                     458992 non-null  float64\n",
      " 12  Industry Code                   450966 non-null  float64\n",
      " 13  Medical Fee Region              458992 non-null  float64\n",
      " 14  WCIO Cause of Injury Code       458992 non-null  float64\n",
      " 15  WCIO Nature of Injury Code      458992 non-null  float64\n",
      " 16  WCIO Part Of Body Code          458992 non-null  float64\n",
      " 17  Zip Code                        458992 non-null  float64\n",
      " 18  Number of Dependents            458992 non-null  float64\n",
      " 19  Years Past Accident             456000 non-null  float64\n",
      " 20  First Hearing Date Occurred     458992 non-null  int64  \n",
      " 21  C-2 Date Occurred               458992 non-null  int64  \n",
      " 22  C-3 Date Occurred               458992 non-null  int64  \n",
      " 23  Assembly Years past Accident    456000 non-null  float64\n",
      "dtypes: float64(16), int64(8)\n",
      "memory usage: 87.5 MB\n"
     ]
    }
   ],
   "source": [
    "X_train_ok.info()"
   ]
  },
  {
   "cell_type": "code",
   "execution_count": 12,
   "id": "6ddec759-8d46-4c3b-ba7e-04f1f7666706",
   "metadata": {},
   "outputs": [
    {
     "name": "stdout",
     "output_type": "stream",
     "text": [
      "features com missed values\n"
     ]
    }
   ],
   "source": [
    "print(\"features com missed values\")\n",
    "missValMean = ['Age at Injury','Average Weekly Wage', 'Years Past Accident','Assembly Years past Accident']\n",
    "missValMode = ['Industry Code']"
   ]
  },
  {
   "cell_type": "code",
   "execution_count": 13,
   "id": "116b043d-6d91-4c37-bf9b-8bb0776b70c5",
   "metadata": {},
   "outputs": [
    {
     "name": "stdout",
     "output_type": "stream",
     "text": [
      "ok\n"
     ]
    }
   ],
   "source": [
    "#colocando medias nas colunas numericas continuas e moda nas categoricas, para teste e validação separadas (Data Linkage)\n",
    "X_train_ok[missValMean] = X_train_ok[missValMean].fillna(X_train_ok[missValMean].mean())\n",
    "print(\"ok\")"
   ]
  },
  {
   "cell_type": "code",
   "execution_count": 14,
   "id": "160c50ae-abda-4ff0-82a9-26ac4e063d43",
   "metadata": {},
   "outputs": [
    {
     "name": "stdout",
     "output_type": "stream",
     "text": [
      "ok\n"
     ]
    }
   ],
   "source": [
    "X_test_ok[missValMean] = X_test_ok[missValMean].fillna(X_test_ok[missValMean].mean())\n",
    "print(\"ok\")"
   ]
  },
  {
   "cell_type": "code",
   "execution_count": 15,
   "id": "767737c3-edac-4505-85f9-31f0c9a43dba",
   "metadata": {},
   "outputs": [
    {
     "name": "stdout",
     "output_type": "stream",
     "text": [
      "ok\n"
     ]
    }
   ],
   "source": [
    "vMode = X_train_ok['Industry Code'].mode()[0]\n",
    "X_train_ok['Industry Code'] = X_train_ok['Industry Code'].fillna(vMode)\n",
    "print(\"ok\")"
   ]
  },
  {
   "cell_type": "code",
   "execution_count": 16,
   "id": "adcb5667-e924-4e97-84d4-7a2662a20b0b",
   "metadata": {},
   "outputs": [
    {
     "name": "stdout",
     "output_type": "stream",
     "text": [
      "missed values resolved!\n"
     ]
    }
   ],
   "source": [
    "vMode = X_test_ok['Industry Code'].mode()[0]\n",
    "X_test_ok['Industry Code'] = X_test_ok['Industry Code'].fillna(vMode)\n",
    "print(\"missed values resolved!\")"
   ]
  },
  {
   "cell_type": "code",
   "execution_count": 17,
   "id": "2e2e6a0f-a2b0-4ded-a13b-193ec3734bca",
   "metadata": {},
   "outputs": [
    {
     "name": "stdout",
     "output_type": "stream",
     "text": [
      "<class 'pandas.core.frame.DataFrame'>\n",
      "Index: 458992 entries, 478483 to 121958\n",
      "Data columns (total 24 columns):\n",
      " #   Column                          Non-Null Count   Dtype  \n",
      "---  ------                          --------------   -----  \n",
      " 0   Claim Identifier                458992 non-null  int64  \n",
      " 1   Age at Injury                   458992 non-null  float64\n",
      " 2   Alternative Dispute Resolution  458992 non-null  int64  \n",
      " 3   Attorney/Representative         458992 non-null  int64  \n",
      " 4   Average Weekly Wage             458992 non-null  float64\n",
      " 5   Carrier Name                    458992 non-null  float64\n",
      " 6   Carrier Type                    458992 non-null  int64  \n",
      " 7   County of Injury                458992 non-null  float64\n",
      " 8   COVID-19 Indicator              458992 non-null  int64  \n",
      " 9   District Name                   458992 non-null  float64\n",
      " 10  Gender                          458992 non-null  float64\n",
      " 11  IME-4 Count                     458992 non-null  float64\n",
      " 12  Industry Code                   458992 non-null  float64\n",
      " 13  Medical Fee Region              458992 non-null  float64\n",
      " 14  WCIO Cause of Injury Code       458992 non-null  float64\n",
      " 15  WCIO Nature of Injury Code      458992 non-null  float64\n",
      " 16  WCIO Part Of Body Code          458992 non-null  float64\n",
      " 17  Zip Code                        458992 non-null  float64\n",
      " 18  Number of Dependents            458992 non-null  float64\n",
      " 19  Years Past Accident             458992 non-null  float64\n",
      " 20  First Hearing Date Occurred     458992 non-null  int64  \n",
      " 21  C-2 Date Occurred               458992 non-null  int64  \n",
      " 22  C-3 Date Occurred               458992 non-null  int64  \n",
      " 23  Assembly Years past Accident    458992 non-null  float64\n",
      "dtypes: float64(16), int64(8)\n",
      "memory usage: 87.5 MB\n"
     ]
    }
   ],
   "source": [
    "X_train_ok.info()"
   ]
  },
  {
   "cell_type": "code",
   "execution_count": 18,
   "id": "4e6c08fd-b0e0-4a05-9f46-8404edea169f",
   "metadata": {},
   "outputs": [
    {
     "name": "stdout",
     "output_type": "stream",
     "text": [
      "<class 'pandas.core.frame.DataFrame'>\n",
      "Index: 114748 entries, 502001 to 355120\n",
      "Data columns (total 24 columns):\n",
      " #   Column                          Non-Null Count   Dtype  \n",
      "---  ------                          --------------   -----  \n",
      " 0   Claim Identifier                114748 non-null  int64  \n",
      " 1   Age at Injury                   114748 non-null  float64\n",
      " 2   Alternative Dispute Resolution  114748 non-null  int64  \n",
      " 3   Attorney/Representative         114748 non-null  int64  \n",
      " 4   Average Weekly Wage             114748 non-null  float64\n",
      " 5   Carrier Name                    114748 non-null  float64\n",
      " 6   Carrier Type                    114748 non-null  int64  \n",
      " 7   County of Injury                114748 non-null  float64\n",
      " 8   COVID-19 Indicator              114748 non-null  int64  \n",
      " 9   District Name                   114748 non-null  float64\n",
      " 10  Gender                          114748 non-null  float64\n",
      " 11  IME-4 Count                     114748 non-null  float64\n",
      " 12  Industry Code                   114748 non-null  float64\n",
      " 13  Medical Fee Region              114748 non-null  float64\n",
      " 14  WCIO Cause of Injury Code       114748 non-null  float64\n",
      " 15  WCIO Nature of Injury Code      114748 non-null  float64\n",
      " 16  WCIO Part Of Body Code          114748 non-null  float64\n",
      " 17  Zip Code                        114748 non-null  float64\n",
      " 18  Number of Dependents            114748 non-null  float64\n",
      " 19  Years Past Accident             114748 non-null  float64\n",
      " 20  First Hearing Date Occurred     114748 non-null  int64  \n",
      " 21  C-2 Date Occurred               114748 non-null  int64  \n",
      " 22  C-3 Date Occurred               114748 non-null  int64  \n",
      " 23  Assembly Years past Accident    114748 non-null  float64\n",
      "dtypes: float64(16), int64(8)\n",
      "memory usage: 21.9 MB\n"
     ]
    }
   ],
   "source": [
    "X_test_ok.info()"
   ]
  },
  {
   "cell_type": "code",
   "execution_count": 19,
   "id": "fc3608d1-6013-44bf-a6ac-b495af911f43",
   "metadata": {},
   "outputs": [
    {
     "name": "stdout",
     "output_type": "stream",
     "text": [
      "Tempo de execução em segundos: 0.1796877384185791\n"
     ]
    }
   ],
   "source": [
    "# Escalar os dados\n",
    "ini = time.time()\n",
    "scaler = StandardScaler()\n",
    "X_train_scaled = scaler.fit_transform(X_train_ok)\n",
    "X_test_scaled = scaler.transform(X_test_ok)\n",
    "fim = time.time()\n",
    "print (\"Tempo de execução em segundos:\", fim - ini)"
   ]
  },
  {
   "cell_type": "code",
   "execution_count": 20,
   "id": "6b5fc6f3-63e2-417e-8885-78a19ab9449a",
   "metadata": {},
   "outputs": [
    {
     "name": "stdout",
     "output_type": "stream",
     "text": [
      "K-Fold (LogRegression) -------------\n"
     ]
    }
   ],
   "source": [
    "# Logistic Regression básico com K-Fold\n",
    "print(\"K-Fold (LogRegression) -------------\")\n",
    "kf = KFold(n_splits=5, shuffle=True, random_state=42)\n",
    "model = LogisticRegression(\n",
    "    multi_class='multinomial', \n",
    "    max_iter=1000,\n",
    "    verbose=1, \n",
    "    random_state=42,\n",
    "    class_weight=\"balanced\"\n",
    ")"
   ]
  },
  {
   "cell_type": "code",
   "execution_count": 21,
   "id": "12603f5b-fa70-4035-ad0e-7c2b5a308cd5",
   "metadata": {},
   "outputs": [
    {
     "name": "stdout",
     "output_type": "stream",
     "text": [
      "F1-scores por Fold: [0.62226214 0.61810417 0.61676742 0.62000702 0.61757891]\n",
      "F1-score médio: 0.62\n",
      "Tempo de execução em segundos: 247.49180698394775\n"
     ]
    }
   ],
   "source": [
    "# Avaliar usando F1-score com K-Fold\n",
    "ini = time.time()\n",
    "f1_scorer = make_scorer(f1_score, average='weighted')\n",
    "f1_scores = cross_val_score(model, X_train_scaled, y_train, cv=kf, scoring=f1_scorer)\n",
    "\n",
    "print(f\"F1-scores por Fold: {f1_scores}\")\n",
    "print(f\"F1-score médio: {np.mean(f1_scores):.2f}\")\n",
    "fim = time.time()\n",
    "print (\"Tempo de execução em segundos:\", fim - ini)"
   ]
  },
  {
   "cell_type": "code",
   "execution_count": 22,
   "id": "de25b004-1568-4078-adc3-543dd8098c73",
   "metadata": {},
   "outputs": [
    {
     "data": {
      "text/html": [
       "<style>#sk-container-id-1 {\n",
       "  /* Definition of color scheme common for light and dark mode */\n",
       "  --sklearn-color-text: black;\n",
       "  --sklearn-color-line: gray;\n",
       "  /* Definition of color scheme for unfitted estimators */\n",
       "  --sklearn-color-unfitted-level-0: #fff5e6;\n",
       "  --sklearn-color-unfitted-level-1: #f6e4d2;\n",
       "  --sklearn-color-unfitted-level-2: #ffe0b3;\n",
       "  --sklearn-color-unfitted-level-3: chocolate;\n",
       "  /* Definition of color scheme for fitted estimators */\n",
       "  --sklearn-color-fitted-level-0: #f0f8ff;\n",
       "  --sklearn-color-fitted-level-1: #d4ebff;\n",
       "  --sklearn-color-fitted-level-2: #b3dbfd;\n",
       "  --sklearn-color-fitted-level-3: cornflowerblue;\n",
       "\n",
       "  /* Specific color for light theme */\n",
       "  --sklearn-color-text-on-default-background: var(--sg-text-color, var(--theme-code-foreground, var(--jp-content-font-color1, black)));\n",
       "  --sklearn-color-background: var(--sg-background-color, var(--theme-background, var(--jp-layout-color0, white)));\n",
       "  --sklearn-color-border-box: var(--sg-text-color, var(--theme-code-foreground, var(--jp-content-font-color1, black)));\n",
       "  --sklearn-color-icon: #696969;\n",
       "\n",
       "  @media (prefers-color-scheme: dark) {\n",
       "    /* Redefinition of color scheme for dark theme */\n",
       "    --sklearn-color-text-on-default-background: var(--sg-text-color, var(--theme-code-foreground, var(--jp-content-font-color1, white)));\n",
       "    --sklearn-color-background: var(--sg-background-color, var(--theme-background, var(--jp-layout-color0, #111)));\n",
       "    --sklearn-color-border-box: var(--sg-text-color, var(--theme-code-foreground, var(--jp-content-font-color1, white)));\n",
       "    --sklearn-color-icon: #878787;\n",
       "  }\n",
       "}\n",
       "\n",
       "#sk-container-id-1 {\n",
       "  color: var(--sklearn-color-text);\n",
       "}\n",
       "\n",
       "#sk-container-id-1 pre {\n",
       "  padding: 0;\n",
       "}\n",
       "\n",
       "#sk-container-id-1 input.sk-hidden--visually {\n",
       "  border: 0;\n",
       "  clip: rect(1px 1px 1px 1px);\n",
       "  clip: rect(1px, 1px, 1px, 1px);\n",
       "  height: 1px;\n",
       "  margin: -1px;\n",
       "  overflow: hidden;\n",
       "  padding: 0;\n",
       "  position: absolute;\n",
       "  width: 1px;\n",
       "}\n",
       "\n",
       "#sk-container-id-1 div.sk-dashed-wrapped {\n",
       "  border: 1px dashed var(--sklearn-color-line);\n",
       "  margin: 0 0.4em 0.5em 0.4em;\n",
       "  box-sizing: border-box;\n",
       "  padding-bottom: 0.4em;\n",
       "  background-color: var(--sklearn-color-background);\n",
       "}\n",
       "\n",
       "#sk-container-id-1 div.sk-container {\n",
       "  /* jupyter's `normalize.less` sets `[hidden] { display: none; }`\n",
       "     but bootstrap.min.css set `[hidden] { display: none !important; }`\n",
       "     so we also need the `!important` here to be able to override the\n",
       "     default hidden behavior on the sphinx rendered scikit-learn.org.\n",
       "     See: https://github.com/scikit-learn/scikit-learn/issues/21755 */\n",
       "  display: inline-block !important;\n",
       "  position: relative;\n",
       "}\n",
       "\n",
       "#sk-container-id-1 div.sk-text-repr-fallback {\n",
       "  display: none;\n",
       "}\n",
       "\n",
       "div.sk-parallel-item,\n",
       "div.sk-serial,\n",
       "div.sk-item {\n",
       "  /* draw centered vertical line to link estimators */\n",
       "  background-image: linear-gradient(var(--sklearn-color-text-on-default-background), var(--sklearn-color-text-on-default-background));\n",
       "  background-size: 2px 100%;\n",
       "  background-repeat: no-repeat;\n",
       "  background-position: center center;\n",
       "}\n",
       "\n",
       "/* Parallel-specific style estimator block */\n",
       "\n",
       "#sk-container-id-1 div.sk-parallel-item::after {\n",
       "  content: \"\";\n",
       "  width: 100%;\n",
       "  border-bottom: 2px solid var(--sklearn-color-text-on-default-background);\n",
       "  flex-grow: 1;\n",
       "}\n",
       "\n",
       "#sk-container-id-1 div.sk-parallel {\n",
       "  display: flex;\n",
       "  align-items: stretch;\n",
       "  justify-content: center;\n",
       "  background-color: var(--sklearn-color-background);\n",
       "  position: relative;\n",
       "}\n",
       "\n",
       "#sk-container-id-1 div.sk-parallel-item {\n",
       "  display: flex;\n",
       "  flex-direction: column;\n",
       "}\n",
       "\n",
       "#sk-container-id-1 div.sk-parallel-item:first-child::after {\n",
       "  align-self: flex-end;\n",
       "  width: 50%;\n",
       "}\n",
       "\n",
       "#sk-container-id-1 div.sk-parallel-item:last-child::after {\n",
       "  align-self: flex-start;\n",
       "  width: 50%;\n",
       "}\n",
       "\n",
       "#sk-container-id-1 div.sk-parallel-item:only-child::after {\n",
       "  width: 0;\n",
       "}\n",
       "\n",
       "/* Serial-specific style estimator block */\n",
       "\n",
       "#sk-container-id-1 div.sk-serial {\n",
       "  display: flex;\n",
       "  flex-direction: column;\n",
       "  align-items: center;\n",
       "  background-color: var(--sklearn-color-background);\n",
       "  padding-right: 1em;\n",
       "  padding-left: 1em;\n",
       "}\n",
       "\n",
       "\n",
       "/* Toggleable style: style used for estimator/Pipeline/ColumnTransformer box that is\n",
       "clickable and can be expanded/collapsed.\n",
       "- Pipeline and ColumnTransformer use this feature and define the default style\n",
       "- Estimators will overwrite some part of the style using the `sk-estimator` class\n",
       "*/\n",
       "\n",
       "/* Pipeline and ColumnTransformer style (default) */\n",
       "\n",
       "#sk-container-id-1 div.sk-toggleable {\n",
       "  /* Default theme specific background. It is overwritten whether we have a\n",
       "  specific estimator or a Pipeline/ColumnTransformer */\n",
       "  background-color: var(--sklearn-color-background);\n",
       "}\n",
       "\n",
       "/* Toggleable label */\n",
       "#sk-container-id-1 label.sk-toggleable__label {\n",
       "  cursor: pointer;\n",
       "  display: block;\n",
       "  width: 100%;\n",
       "  margin-bottom: 0;\n",
       "  padding: 0.5em;\n",
       "  box-sizing: border-box;\n",
       "  text-align: center;\n",
       "}\n",
       "\n",
       "#sk-container-id-1 label.sk-toggleable__label-arrow:before {\n",
       "  /* Arrow on the left of the label */\n",
       "  content: \"▸\";\n",
       "  float: left;\n",
       "  margin-right: 0.25em;\n",
       "  color: var(--sklearn-color-icon);\n",
       "}\n",
       "\n",
       "#sk-container-id-1 label.sk-toggleable__label-arrow:hover:before {\n",
       "  color: var(--sklearn-color-text);\n",
       "}\n",
       "\n",
       "/* Toggleable content - dropdown */\n",
       "\n",
       "#sk-container-id-1 div.sk-toggleable__content {\n",
       "  max-height: 0;\n",
       "  max-width: 0;\n",
       "  overflow: hidden;\n",
       "  text-align: left;\n",
       "  /* unfitted */\n",
       "  background-color: var(--sklearn-color-unfitted-level-0);\n",
       "}\n",
       "\n",
       "#sk-container-id-1 div.sk-toggleable__content.fitted {\n",
       "  /* fitted */\n",
       "  background-color: var(--sklearn-color-fitted-level-0);\n",
       "}\n",
       "\n",
       "#sk-container-id-1 div.sk-toggleable__content pre {\n",
       "  margin: 0.2em;\n",
       "  border-radius: 0.25em;\n",
       "  color: var(--sklearn-color-text);\n",
       "  /* unfitted */\n",
       "  background-color: var(--sklearn-color-unfitted-level-0);\n",
       "}\n",
       "\n",
       "#sk-container-id-1 div.sk-toggleable__content.fitted pre {\n",
       "  /* unfitted */\n",
       "  background-color: var(--sklearn-color-fitted-level-0);\n",
       "}\n",
       "\n",
       "#sk-container-id-1 input.sk-toggleable__control:checked~div.sk-toggleable__content {\n",
       "  /* Expand drop-down */\n",
       "  max-height: 200px;\n",
       "  max-width: 100%;\n",
       "  overflow: auto;\n",
       "}\n",
       "\n",
       "#sk-container-id-1 input.sk-toggleable__control:checked~label.sk-toggleable__label-arrow:before {\n",
       "  content: \"▾\";\n",
       "}\n",
       "\n",
       "/* Pipeline/ColumnTransformer-specific style */\n",
       "\n",
       "#sk-container-id-1 div.sk-label input.sk-toggleable__control:checked~label.sk-toggleable__label {\n",
       "  color: var(--sklearn-color-text);\n",
       "  background-color: var(--sklearn-color-unfitted-level-2);\n",
       "}\n",
       "\n",
       "#sk-container-id-1 div.sk-label.fitted input.sk-toggleable__control:checked~label.sk-toggleable__label {\n",
       "  background-color: var(--sklearn-color-fitted-level-2);\n",
       "}\n",
       "\n",
       "/* Estimator-specific style */\n",
       "\n",
       "/* Colorize estimator box */\n",
       "#sk-container-id-1 div.sk-estimator input.sk-toggleable__control:checked~label.sk-toggleable__label {\n",
       "  /* unfitted */\n",
       "  background-color: var(--sklearn-color-unfitted-level-2);\n",
       "}\n",
       "\n",
       "#sk-container-id-1 div.sk-estimator.fitted input.sk-toggleable__control:checked~label.sk-toggleable__label {\n",
       "  /* fitted */\n",
       "  background-color: var(--sklearn-color-fitted-level-2);\n",
       "}\n",
       "\n",
       "#sk-container-id-1 div.sk-label label.sk-toggleable__label,\n",
       "#sk-container-id-1 div.sk-label label {\n",
       "  /* The background is the default theme color */\n",
       "  color: var(--sklearn-color-text-on-default-background);\n",
       "}\n",
       "\n",
       "/* On hover, darken the color of the background */\n",
       "#sk-container-id-1 div.sk-label:hover label.sk-toggleable__label {\n",
       "  color: var(--sklearn-color-text);\n",
       "  background-color: var(--sklearn-color-unfitted-level-2);\n",
       "}\n",
       "\n",
       "/* Label box, darken color on hover, fitted */\n",
       "#sk-container-id-1 div.sk-label.fitted:hover label.sk-toggleable__label.fitted {\n",
       "  color: var(--sklearn-color-text);\n",
       "  background-color: var(--sklearn-color-fitted-level-2);\n",
       "}\n",
       "\n",
       "/* Estimator label */\n",
       "\n",
       "#sk-container-id-1 div.sk-label label {\n",
       "  font-family: monospace;\n",
       "  font-weight: bold;\n",
       "  display: inline-block;\n",
       "  line-height: 1.2em;\n",
       "}\n",
       "\n",
       "#sk-container-id-1 div.sk-label-container {\n",
       "  text-align: center;\n",
       "}\n",
       "\n",
       "/* Estimator-specific */\n",
       "#sk-container-id-1 div.sk-estimator {\n",
       "  font-family: monospace;\n",
       "  border: 1px dotted var(--sklearn-color-border-box);\n",
       "  border-radius: 0.25em;\n",
       "  box-sizing: border-box;\n",
       "  margin-bottom: 0.5em;\n",
       "  /* unfitted */\n",
       "  background-color: var(--sklearn-color-unfitted-level-0);\n",
       "}\n",
       "\n",
       "#sk-container-id-1 div.sk-estimator.fitted {\n",
       "  /* fitted */\n",
       "  background-color: var(--sklearn-color-fitted-level-0);\n",
       "}\n",
       "\n",
       "/* on hover */\n",
       "#sk-container-id-1 div.sk-estimator:hover {\n",
       "  /* unfitted */\n",
       "  background-color: var(--sklearn-color-unfitted-level-2);\n",
       "}\n",
       "\n",
       "#sk-container-id-1 div.sk-estimator.fitted:hover {\n",
       "  /* fitted */\n",
       "  background-color: var(--sklearn-color-fitted-level-2);\n",
       "}\n",
       "\n",
       "/* Specification for estimator info (e.g. \"i\" and \"?\") */\n",
       "\n",
       "/* Common style for \"i\" and \"?\" */\n",
       "\n",
       ".sk-estimator-doc-link,\n",
       "a:link.sk-estimator-doc-link,\n",
       "a:visited.sk-estimator-doc-link {\n",
       "  float: right;\n",
       "  font-size: smaller;\n",
       "  line-height: 1em;\n",
       "  font-family: monospace;\n",
       "  background-color: var(--sklearn-color-background);\n",
       "  border-radius: 1em;\n",
       "  height: 1em;\n",
       "  width: 1em;\n",
       "  text-decoration: none !important;\n",
       "  margin-left: 1ex;\n",
       "  /* unfitted */\n",
       "  border: var(--sklearn-color-unfitted-level-1) 1pt solid;\n",
       "  color: var(--sklearn-color-unfitted-level-1);\n",
       "}\n",
       "\n",
       ".sk-estimator-doc-link.fitted,\n",
       "a:link.sk-estimator-doc-link.fitted,\n",
       "a:visited.sk-estimator-doc-link.fitted {\n",
       "  /* fitted */\n",
       "  border: var(--sklearn-color-fitted-level-1) 1pt solid;\n",
       "  color: var(--sklearn-color-fitted-level-1);\n",
       "}\n",
       "\n",
       "/* On hover */\n",
       "div.sk-estimator:hover .sk-estimator-doc-link:hover,\n",
       ".sk-estimator-doc-link:hover,\n",
       "div.sk-label-container:hover .sk-estimator-doc-link:hover,\n",
       ".sk-estimator-doc-link:hover {\n",
       "  /* unfitted */\n",
       "  background-color: var(--sklearn-color-unfitted-level-3);\n",
       "  color: var(--sklearn-color-background);\n",
       "  text-decoration: none;\n",
       "}\n",
       "\n",
       "div.sk-estimator.fitted:hover .sk-estimator-doc-link.fitted:hover,\n",
       ".sk-estimator-doc-link.fitted:hover,\n",
       "div.sk-label-container:hover .sk-estimator-doc-link.fitted:hover,\n",
       ".sk-estimator-doc-link.fitted:hover {\n",
       "  /* fitted */\n",
       "  background-color: var(--sklearn-color-fitted-level-3);\n",
       "  color: var(--sklearn-color-background);\n",
       "  text-decoration: none;\n",
       "}\n",
       "\n",
       "/* Span, style for the box shown on hovering the info icon */\n",
       ".sk-estimator-doc-link span {\n",
       "  display: none;\n",
       "  z-index: 9999;\n",
       "  position: relative;\n",
       "  font-weight: normal;\n",
       "  right: .2ex;\n",
       "  padding: .5ex;\n",
       "  margin: .5ex;\n",
       "  width: min-content;\n",
       "  min-width: 20ex;\n",
       "  max-width: 50ex;\n",
       "  color: var(--sklearn-color-text);\n",
       "  box-shadow: 2pt 2pt 4pt #999;\n",
       "  /* unfitted */\n",
       "  background: var(--sklearn-color-unfitted-level-0);\n",
       "  border: .5pt solid var(--sklearn-color-unfitted-level-3);\n",
       "}\n",
       "\n",
       ".sk-estimator-doc-link.fitted span {\n",
       "  /* fitted */\n",
       "  background: var(--sklearn-color-fitted-level-0);\n",
       "  border: var(--sklearn-color-fitted-level-3);\n",
       "}\n",
       "\n",
       ".sk-estimator-doc-link:hover span {\n",
       "  display: block;\n",
       "}\n",
       "\n",
       "/* \"?\"-specific style due to the `<a>` HTML tag */\n",
       "\n",
       "#sk-container-id-1 a.estimator_doc_link {\n",
       "  float: right;\n",
       "  font-size: 1rem;\n",
       "  line-height: 1em;\n",
       "  font-family: monospace;\n",
       "  background-color: var(--sklearn-color-background);\n",
       "  border-radius: 1rem;\n",
       "  height: 1rem;\n",
       "  width: 1rem;\n",
       "  text-decoration: none;\n",
       "  /* unfitted */\n",
       "  color: var(--sklearn-color-unfitted-level-1);\n",
       "  border: var(--sklearn-color-unfitted-level-1) 1pt solid;\n",
       "}\n",
       "\n",
       "#sk-container-id-1 a.estimator_doc_link.fitted {\n",
       "  /* fitted */\n",
       "  border: var(--sklearn-color-fitted-level-1) 1pt solid;\n",
       "  color: var(--sklearn-color-fitted-level-1);\n",
       "}\n",
       "\n",
       "/* On hover */\n",
       "#sk-container-id-1 a.estimator_doc_link:hover {\n",
       "  /* unfitted */\n",
       "  background-color: var(--sklearn-color-unfitted-level-3);\n",
       "  color: var(--sklearn-color-background);\n",
       "  text-decoration: none;\n",
       "}\n",
       "\n",
       "#sk-container-id-1 a.estimator_doc_link.fitted:hover {\n",
       "  /* fitted */\n",
       "  background-color: var(--sklearn-color-fitted-level-3);\n",
       "}\n",
       "</style><div id=\"sk-container-id-1\" class=\"sk-top-container\"><div class=\"sk-text-repr-fallback\"><pre>LogisticRegression(class_weight=&#x27;balanced&#x27;, max_iter=1000,\n",
       "                   multi_class=&#x27;multinomial&#x27;, random_state=42, verbose=1)</pre><b>In a Jupyter environment, please rerun this cell to show the HTML representation or trust the notebook. <br />On GitHub, the HTML representation is unable to render, please try loading this page with nbviewer.org.</b></div><div class=\"sk-container\" hidden><div class=\"sk-item\"><div class=\"sk-estimator fitted sk-toggleable\"><input class=\"sk-toggleable__control sk-hidden--visually\" id=\"sk-estimator-id-1\" type=\"checkbox\" checked><label for=\"sk-estimator-id-1\" class=\"sk-toggleable__label fitted sk-toggleable__label-arrow fitted\">&nbsp;&nbsp;LogisticRegression<a class=\"sk-estimator-doc-link fitted\" rel=\"noreferrer\" target=\"_blank\" href=\"https://scikit-learn.org/1.4/modules/generated/sklearn.linear_model.LogisticRegression.html\">?<span>Documentation for LogisticRegression</span></a><span class=\"sk-estimator-doc-link fitted\">i<span>Fitted</span></span></label><div class=\"sk-toggleable__content fitted\"><pre>LogisticRegression(class_weight=&#x27;balanced&#x27;, max_iter=1000,\n",
       "                   multi_class=&#x27;multinomial&#x27;, random_state=42, verbose=1)</pre></div> </div></div></div></div>"
      ],
      "text/plain": [
       "LogisticRegression(class_weight='balanced', max_iter=1000,\n",
       "                   multi_class='multinomial', random_state=42, verbose=1)"
      ]
     },
     "execution_count": 22,
     "metadata": {},
     "output_type": "execute_result"
    }
   ],
   "source": [
    "# Ajustar modelo no conjunto de treino e avaliar no teste\n",
    "model.fit(X_train_scaled, y_train)"
   ]
  },
  {
   "cell_type": "code",
   "execution_count": 23,
   "id": "f1a24ebe-b0d2-4a5d-944b-63da9567a3c3",
   "metadata": {},
   "outputs": [],
   "source": [
    "y_pred = model.predict(X_test_scaled)"
   ]
  },
  {
   "cell_type": "code",
   "execution_count": 24,
   "id": "d496b143-25f1-4639-bc83-71416ec2b51a",
   "metadata": {},
   "outputs": [
    {
     "data": {
      "text/plain": [
       "array([1, 4, 1, ..., 4, 1, 1], dtype=int64)"
      ]
     },
     "execution_count": 24,
     "metadata": {},
     "output_type": "execute_result"
    }
   ],
   "source": [
    "y_pred"
   ]
  },
  {
   "cell_type": "code",
   "execution_count": 25,
   "id": "c5c9c00e-4f5d-459d-b402-211dfbee26e0",
   "metadata": {},
   "outputs": [
    {
     "name": "stdout",
     "output_type": "stream",
     "text": [
      "F1-score no conjunto de teste: 0.62\n",
      "Tempo de execução em segundos: 0.08878183364868164\n"
     ]
    }
   ],
   "source": [
    "ini = time.time()\n",
    "print(f\"F1-score no conjunto de teste: {f1_score(y_test, y_pred, average='weighted'):.2f}\")\n",
    "fim = time.time()\n",
    "print (\"Tempo de execução em segundos:\", fim - ini)"
   ]
  },
  {
   "cell_type": "code",
   "execution_count": 26,
   "id": "30ab76f2-8ac9-4948-bf15-30bec15aad9b",
   "metadata": {},
   "outputs": [
    {
     "name": "stdout",
     "output_type": "stream",
     "text": [
      "GridSearchCV (LogRegression) --------------\n"
     ]
    }
   ],
   "source": [
    "# GridSearchCV para otimização de hiperparâmetros\n",
    "print(\"GridSearchCV (LogRegression) --------------\")\n",
    "param_grid = {\n",
    "    'C': [0.01, 0.1, 1, 10, 100],  # Parâmetro de regularização\n",
    "    'penalty': ['l2'],       # Tipo de penalidade (L1: LASSO, L2: Ridge regularization)\n",
    "    'solver': ['lbfgs']        # Solver compatível com multifuncional\n",
    "}"
   ]
  },
  {
   "cell_type": "code",
   "execution_count": 27,
   "id": "b380f941-f7d2-4504-b762-1e31c61abd98",
   "metadata": {},
   "outputs": [
    {
     "name": "stdout",
     "output_type": "stream",
     "text": [
      "Tempo de execução em segundos: 0.0\n"
     ]
    }
   ],
   "source": [
    "ini = time.time()\n",
    "grid_search = GridSearchCV(\n",
    "    LogisticRegression(max_iter=1000, multi_class='multinomial', random_state=42, solver='lbfgs', class_weight=\"balanced\"),\n",
    "    param_grid,\n",
    "    scoring=f1_scorer,\n",
    "    cv=5\n",
    ")\n",
    "fim = time.time()\n",
    "print (\"Tempo de execução em segundos:\", fim - ini)"
   ]
  },
  {
   "cell_type": "code",
   "execution_count": 28,
   "id": "ea18d863-e898-4614-ac5e-de33ab22e7c8",
   "metadata": {},
   "outputs": [
    {
     "name": "stdout",
     "output_type": "stream",
     "text": [
      "Tempo de execução em segundos: 1184.9644877910614\n"
     ]
    }
   ],
   "source": [
    "ini = time.time()\n",
    "grid_search.fit(X_train_scaled, y_train)\n",
    "fim = time.time()\n",
    "print (\"Tempo de execução em segundos:\", fim - ini)"
   ]
  },
  {
   "cell_type": "code",
   "execution_count": 29,
   "id": "2b8c7d99-2f90-4088-a1c6-b7345402e67d",
   "metadata": {},
   "outputs": [
    {
     "name": "stdout",
     "output_type": "stream",
     "text": [
      "Melhores hiperparâmetros: {'C': 100, 'penalty': 'l2', 'solver': 'lbfgs'}\n",
      "Melhor F1-score no treino (cross-val): 0.62\n"
     ]
    }
   ],
   "source": [
    "print(f\"Melhores hiperparâmetros: {grid_search.best_params_}\")\n",
    "print(f\"Melhor F1-score no treino (cross-val): {grid_search.best_score_:.2f}\")"
   ]
  },
  {
   "cell_type": "code",
   "execution_count": 30,
   "id": "19d7ef93-870c-4da6-855a-c9bee595e97d",
   "metadata": {},
   "outputs": [
    {
     "name": "stdout",
     "output_type": "stream",
     "text": [
      "Escolhendo o melhor modelo -----------\n",
      "F1-score do melhor modelo no conjunto de teste: 0.62\n"
     ]
    }
   ],
   "source": [
    "print(\"Escolhendo o melhor modelo -----------\")\n",
    "best_model = grid_search.best_estimator_\n",
    "y_pred_best = best_model.predict(X_test_scaled)\n",
    "print(f\"F1-score do melhor modelo no conjunto de teste: {f1_score(y_test, y_pred_best, average='weighted'):.2f}\")\n",
    "#winsound.Beep(600, 250)\n",
    "#time.sleep(0.25)"
   ]
  },
  {
   "cell_type": "code",
   "execution_count": 31,
   "id": "a590c800-95b4-47d9-92fe-d63f4741e636",
   "metadata": {},
   "outputs": [
    {
     "name": "stdout",
     "output_type": "stream",
     "text": [
      "Classification Report -------------------\n",
      "              precision    recall  f1-score   support\n",
      "\n",
      "           0       0.25      0.67      0.37      2451\n",
      "           1       0.88      0.86      0.87     58158\n",
      "           2       0.21      0.23      0.22     13692\n",
      "           3       0.76      0.27      0.39     29816\n",
      "           4       0.50      0.53      0.51      9702\n",
      "           5       0.05      0.54      0.10       821\n",
      "           6       0.00      0.65      0.01        23\n",
      "           7       0.02      0.86      0.04        85\n",
      "\n",
      "    accuracy                           0.59    114748\n",
      "   macro avg       0.33      0.57      0.31    114748\n",
      "weighted avg       0.71      0.59      0.62    114748\n",
      "\n"
     ]
    }
   ],
   "source": [
    "print(\"Classification Report -------------------\")\n",
    "report = classification_report(y_test, y_pred_best)\n",
    "print(report)"
   ]
  },
  {
   "cell_type": "code",
   "execution_count": 32,
   "id": "7d8944fe-2796-481e-b3ff-bfd317a154cb",
   "metadata": {},
   "outputs": [],
   "source": [
    "fim_total = time.time()"
   ]
  },
  {
   "cell_type": "code",
   "execution_count": 33,
   "id": "96fe419a-03d8-48e6-97f7-b44d2782c376",
   "metadata": {},
   "outputs": [
    {
     "name": "stdout",
     "output_type": "stream",
     "text": [
      "Total geral do processamento (segundos):  1498.9269797801971\n"
     ]
    }
   ],
   "source": [
    "print(\"Total geral do processamento (segundos): \", fim_total - ini_total)"
   ]
  },
  {
   "cell_type": "code",
   "execution_count": 34,
   "id": "ec6f75ad-31e1-4ac2-a5d3-f351a720f898",
   "metadata": {},
   "outputs": [],
   "source": [
    "winsound.Beep(600, 250)\n",
    "time.sleep(0.25)"
   ]
  }
 ],
 "metadata": {
  "kernelspec": {
   "display_name": "Python 3 (ipykernel)",
   "language": "python",
   "name": "python3"
  },
  "language_info": {
   "codemirror_mode": {
    "name": "ipython",
    "version": 3
   },
   "file_extension": ".py",
   "mimetype": "text/x-python",
   "name": "python",
   "nbconvert_exporter": "python",
   "pygments_lexer": "ipython3",
   "version": "3.12.4"
  }
 },
 "nbformat": 4,
 "nbformat_minor": 5
}
