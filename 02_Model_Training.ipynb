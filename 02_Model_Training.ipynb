{
 "cells": [
  {
   "cell_type": "markdown",
   "id": "4e03379d-1f1e-4297-8160-47715663c36a",
   "metadata": {},
   "source": [
    "\n",
    "- 20240536 Inês Jacinto 20240536@novaims.unl.pt\n",
    "- 20240561 Antônio Ramos 20240561@novaims.unl.pt \n",
    "- 20240598 Sofia Jacinto 20240598@novaims.unl.pt \n",
    "- 20240750 Marisa Marques 20240750@novaims.unl.pt\n"
   ]
  },
  {
   "cell_type": "code",
   "execution_count": 1,
   "id": "9f41e9c0",
   "metadata": {},
   "outputs": [
    {
     "name": "stdout",
     "output_type": "stream",
     "text": [
      "Requirement already satisfied: xgboost in c:\\users\\35196\\anaconda3\\lib\\site-packages (2.1.2)\n",
      "Requirement already satisfied: numpy in c:\\users\\35196\\anaconda3\\lib\\site-packages (from xgboost) (1.21.5)\n",
      "Requirement already satisfied: scipy in c:\\users\\35196\\anaconda3\\lib\\site-packages (from xgboost) (1.7.3)\n"
     ]
    }
   ],
   "source": [
    "!pip install xgboost"
   ]
  },
  {
   "cell_type": "code",
   "execution_count": 2,
   "id": "81a2bdb0-993a-40d4-abcc-95e392642b28",
   "metadata": {},
   "outputs": [],
   "source": [
    "# General Imports\n",
    "import numpy as np\n",
    "import pandas as pd\n",
    "import seaborn as sns\n",
    "import matplotlib.pyplot as plt\n",
    "\n",
    "# Sklearn packages\n",
    "from sklearn.preprocessing import StandardScaler, MinMaxScaler, RobustScaler\n",
    "from sklearn.model_selection import train_test_split\n",
    "from sklearn.impute import KNNImputer\n",
    "\n",
    "# Models\n",
    "from sklearn.linear_model import LogisticRegression\n",
    "from sklearn.neighbors import KNeighborsClassifier\n",
    "from sklearn.tree import DecisionTreeClassifier\n",
    "from sklearn.ensemble import RandomForestClassifier\n",
    "\n",
    "from sklearn.feature_selection import RFE\n",
    "\n",
    "from sklearn.model_selection import StratifiedKFold\n",
    "\n",
    "# embedded methods\n",
    "from sklearn.linear_model import LassoCV\n",
    "import scipy.stats as stats\n",
    "from scipy.stats import chi2_contingency\n",
    "\n",
    "from sklearn.preprocessing import LabelEncoder\n",
    "\n",
    "from imblearn.over_sampling import SMOTE\n",
    "from imblearn.under_sampling import RandomUnderSampler\n",
    "\n",
    "from sklearn.metrics import classification_report, f1_score\n",
    "\n",
    "from util_train import *\n",
    "from utils import *\n",
    "import xgboost as xgb\n",
    "\n",
    "import warnings\n",
    "warnings.filterwarnings(\"ignore\")\n",
    "\n",
    "%load_ext autoreload\n",
    "%autoreload 2"
   ]
  },
  {
   "cell_type": "code",
   "execution_count": 3,
   "id": "e5c98be4-f12c-4d00-9ca6-d21ab576b9e6",
   "metadata": {},
   "outputs": [],
   "source": [
    "# Set the reference date\n",
    "reference_date = pd.to_datetime(\"2023-01-01\")"
   ]
  },
  {
   "cell_type": "code",
   "execution_count": 4,
   "id": "1321700a-4039-4d20-a0fc-3cb6109cf7f1",
   "metadata": {},
   "outputs": [],
   "source": [
    "# Load the training dataset from CSV files\n",
    "train_df = pd.read_csv(\"train_data_after_EDA.csv\", index_col=\"Claim Identifier\")"
   ]
  },
  {
   "cell_type": "code",
   "execution_count": 5,
   "id": "cca50cdf-fe16-440a-9774-75157845ab70",
   "metadata": {},
   "outputs": [],
   "source": [
    "# Define categorical, numeric and binary columns in the dataset for targeted processing\n",
    "\n",
    "numerical_features = [\n",
    "    \"Age at Injury\",\n",
    "    \"WCIO Cause of Injury Code\",\n",
    "    \"WCIO Nature of Injury Code\",\n",
    "    \"WCIO Part Of Body Code\",\n",
    "    \"Number of Dependents\",\n",
    "    \"Years Past Accident\",\n",
    "    \"Assembly Years past Accident\",\n",
    "    \"Industry Code\",\n",
    "    \"Birth Year\",\n",
    "    \"Average Weekly Wage\",\n",
    "    \"IME-4 Count\"\n",
    "]\n",
    "\n",
    "categorical_features = [\n",
    "    \"Carrier Name\",\n",
    "    \"Carrier Type\",\n",
    "    \"County of Injury\",\n",
    "    \"District Name\",\n",
    "    \"Gender\",\n",
    "    \"Medical Fee Region\",\n",
    "    \"Zip Code\"\n",
    "]\n",
    "\n",
    "binary_features = [\n",
    "    \"Attorney/Representative\",\n",
    "    \"COVID-19 Indicator\",\n",
    "    \"First Hearing Date Occurred\",\n",
    "    \"C-2 Date Occurred\",\n",
    "    \"C-3 Date Occurred\"\n",
    "]\n"
   ]
  },
  {
   "cell_type": "code",
   "execution_count": 59,
   "id": "062b51ae-e71b-4168-aa59-a39e20f84993",
   "metadata": {},
   "outputs": [
    {
     "name": "stdout",
     "output_type": "stream",
     "text": [
      "-------\n",
      "Accident Date\n",
      "Alternative Dispute Resolution\n",
      "Claim Injury Type\n"
     ]
    }
   ],
   "source": [
    "# Check if expected features (numerical, categorical, binary) are present in train_df\n",
    "for col in numerical_features+categorical_features+binary_features:\n",
    "    if col not in train_df.columns:\n",
    "        print(col)\n",
    "        \n",
    "print(\"-------\")\n",
    "\n",
    "# Check if any extra columns exist in train_df that are not in the expected feature lists\n",
    "for col in train_df.columns:\n",
    "    if col not in numerical_features+categorical_features+binary_features:\n",
    "        print(col)"
   ]
  },
  {
   "cell_type": "code",
   "execution_count": 7,
   "id": "27f99626-72f7-4f75-b99e-c93199c98bbc",
   "metadata": {},
   "outputs": [],
   "source": [
    "# Drop rows with missing values in essential columns for model training\n",
    "train_df.dropna(subset = [\"Accident Date\",\"Years Past Accident\",\"Assembly Years past Accident\"], inplace=True)"
   ]
  },
  {
   "cell_type": "code",
   "execution_count": 8,
   "id": "6a08cbac-a73a-4352-907e-6b7440d99923",
   "metadata": {},
   "outputs": [],
   "source": [
    "# Separate features (X) and target variable (y)\n",
    "X = train_df.drop([\"Claim Injury Type\",\"Accident Date\",\"Alternative Dispute Resolution\"], axis = 1)\n",
    "y = train_df[\"Claim Injury Type\"]"
   ]
  },
  {
   "cell_type": "code",
   "execution_count": 9,
   "id": "e2f71875",
   "metadata": {},
   "outputs": [],
   "source": [
    "# Identify and remove outliers based on Z-scores (values > 3 are considered outliers)\n",
    "z_scores = np.abs(stats.zscore(train_df[numerical_features]))\n",
    "outliers = (z_scores > 3).any(axis=1)\n",
    "train_df_clean = train_df[~outliers]"
   ]
  },
  {
   "cell_type": "code",
   "execution_count": 10,
   "id": "9bef2e5c",
   "metadata": {},
   "outputs": [],
   "source": [
    "# Apply log transformation to skewed numerical features (make them more normally distributed)\n",
    "for feature in numerical_features:\n",
    "    if feature in train_df_clean.columns:\n",
    "        train_df_clean['log_'+feature] = np.log1p(train_df_clean[feature])"
   ]
  },
  {
   "cell_type": "code",
   "execution_count": 11,
   "id": "e8c9309b",
   "metadata": {},
   "outputs": [],
   "source": [
    "# Standardize numerical features to ensure they are on the same scale\n",
    "scaler = StandardScaler()\n",
    "train_df_clean[numerical_features] = scaler.fit_transform(train_df_clean[numerical_features])"
   ]
  },
  {
   "cell_type": "markdown",
   "id": "544857ab-682d-4a18-b997-be0d3c0d4984",
   "metadata": {},
   "source": [
    "# Feature Selection"
   ]
  },
  {
   "cell_type": "code",
   "execution_count": 13,
   "id": "4e211a06-b373-4734-810c-0e3f0bddacff",
   "metadata": {},
   "outputs": [],
   "source": [
    "# Split data into training (90%) and test (10%) sets\n",
    "X_train_90, X_test, y_train_90, y_test = train_test_split(X,y, test_size = 0.1, random_state = 69, stratify = y, shuffle = True) # 10% of data that the models never saw"
   ]
  },
  {
   "cell_type": "code",
   "execution_count": 14,
   "id": "9cf88d07-efd5-42dc-b458-8eda2f1ec7fb",
   "metadata": {},
   "outputs": [
    {
     "data": {
      "image/png": "[encoded data removed]",
      "text/plain": [
       "<Figure size 1440x1440 with 2 Axes>"
      ]
     },
     "metadata": {
      "needs_background": "light"
     },
     "output_type": "display_data"
    }
   ],
   "source": [
    "# Compute and visualize the correlation matrix of numerical features\n",
    "corr_matrix = X_train_90[numerical_features].corr()\n",
    "\n",
    "# Mask to only show the lower triangle of the correlation matrix\n",
    "mask = np.tri(*corr_matrix.shape, k=0, dtype=bool)\n",
    "# Keeps values where mask is True\n",
    "corr_matrix = corr_matrix.where(mask)\n",
    "\n",
    "# Defines the figure size\n",
    "fig, ax = plt.subplots(figsize=(20, 20))\n",
    "\n",
    "# Heatmap of the initial correlation matrix\n",
    "l = sns.heatmap(corr_matrix, square=True, annot=True, fmt=\".2f\", vmax=1, vmin=-1, cmap='RdBu', ax=ax)\n",
    "plt.title('Correlation Between Variables', size=14)\n",
    "plt.show()"
   ]
  },
  {
   "cell_type": "code",
   "execution_count": 15,
   "id": "98658423-acb2-48f0-8a6b-0f5bbc85272a",
   "metadata": {},
   "outputs": [],
   "source": [
    "# Split training data further into training and validation sets\n",
    "X_train_temp, X_val_temp, y_train_temp, y_val_temp = train_test_split(X_train_90,y_train_90, test_size = 0.25, random_state = 42, stratify = y_train_90, shuffle = True)"
   ]
  },
  {
   "cell_type": "code",
   "execution_count": 16,
   "id": "66f06c8c-18ff-408f-849c-273a771ddae1",
   "metadata": {},
   "outputs": [],
   "source": [
    "# Scale numerical and categorical features for model training\n",
    "feature_to_scale = numerical_features+categorical_features\n",
    "mm = MinMaxScaler() # Initialize MinMaxScaler\n",
    "X_train_temp[feature_to_scale] = mm.fit_transform(X_train_temp[feature_to_scale]) # Fit and transform on train data\n",
    "X_val_temp[feature_to_scale] = mm.transform(X_val_temp[feature_to_scale]) # Transform on validation data"
   ]
  },
  {
   "cell_type": "code",
   "execution_count": 17,
   "id": "edddfec6-28b9-40eb-902b-42b7877ca6dd",
   "metadata": {},
   "outputs": [],
   "source": [
    "# Impute missing values in numerical features using KNN imputer\n",
    "to_impute = [\"Average Weekly Wage\",\"Industry Code\"]\n",
    "imputer = KNNImputer(n_neighbors=3)\n",
    "X_train_temp[to_impute] = imputer.fit_transform(X_train_temp[to_impute])\n",
    "X_val_temp[to_impute] = imputer.transform(X_val_temp[to_impute])"
   ]
  },
  {
   "cell_type": "code",
   "execution_count": 18,
   "id": "86fd3a9d-4c81-42c5-867f-7407f75c7569",
   "metadata": {
    "scrolled": true
   },
   "outputs": [],
   "source": [
    "# Feature selection using Recursive Feature Elimination (RFE) for XGBoost\n",
    "RFE_XGB_best = feature_selection_RFE(X_train_temp[numerical_features],y_train_temp,n_features=len(numerical_features)\n",
    "                                    ,model = xgb.XGBClassifier(\n",
    "                                                    objective='binary:logistic',  \n",
    "                                                    eval_metric='logloss',         \n",
    "                                                    use_label_encoder=False,                 \n",
    "                                                ))"
   ]
  },
  {
   "cell_type": "code",
   "execution_count": 19,
   "id": "4a61dd16-5b35-4319-b3c5-68cfa671d997",
   "metadata": {},
   "outputs": [],
   "source": [
    "# Feature selection using Recursive Feature Elimination (RFE) for DecisionTree\n",
    "RFE_DT_best = feature_selection_RFE(X_train_temp[numerical_features],y_train_temp,n_features=len(numerical_features) \n",
    "                                    ,model = DecisionTreeClassifier(max_depth=5, min_samples_leaf=10, class_weight='balanced'))"
   ]
  },
  {
   "cell_type": "code",
   "execution_count": 20,
   "id": "f13f1bcb-8b0a-410c-9091-cef448e96ee9",
   "metadata": {},
   "outputs": [
    {
     "data": {
      "text/plain": [
       "['Age at Injury',\n",
       " 'WCIO Cause of Injury Code',\n",
       " 'WCIO Nature of Injury Code',\n",
       " 'WCIO Part Of Body Code',\n",
       " 'Years Past Accident',\n",
       " 'Assembly Years past Accident',\n",
       " 'Industry Code',\n",
       " 'Birth Year',\n",
       " 'Average Weekly Wage',\n",
       " 'IME-4 Count']"
      ]
     },
     "execution_count": 20,
     "metadata": {},
     "output_type": "execute_result"
    }
   ],
   "source": [
    "RFE_XGB_best"
   ]
  },
  {
   "cell_type": "code",
   "execution_count": 21,
   "id": "260bc18b-8124-4902-a799-c9b7af807ef2",
   "metadata": {},
   "outputs": [
    {
     "data": {
      "text/plain": [
       "['WCIO Nature of Injury Code', 'Average Weekly Wage', 'IME-4 Count']"
      ]
     },
     "execution_count": 21,
     "metadata": {},
     "output_type": "execute_result"
    }
   ],
   "source": [
    "RFE_DT_best"
   ]
  },
  {
   "cell_type": "code",
   "execution_count": 22,
   "id": "55b8a8d6-453b-4229-88f1-686ad074604d",
   "metadata": {},
   "outputs": [
    {
     "name": "stdout",
     "output_type": "stream",
     "text": [
      "WCIO Cause of Injury Code: 2.25% missing values\n",
      "WCIO Nature of Injury Code: 2.25% missing values\n",
      "WCIO Part Of Body Code: 2.44% missing values\n",
      "Zip Code: 7.64% missing values\n"
     ]
    }
   ],
   "source": [
    "# Check for missing values in training set\n",
    "missing_percentage = X_train_temp.isna().sum() / len(X_train_temp) * 100\n",
    "for col, percent in missing_percentage.items():\n",
    "    if not percent == 0:\n",
    "        print(f\"{col}: {percent:.2f}% missing values\")"
   ]
  },
  {
   "cell_type": "code",
   "execution_count": 23,
   "id": "4c391346",
   "metadata": {},
   "outputs": [],
   "source": [
    "# Replace NaNs with the average of each column because of Lasso\n",
    "X_train_temp[numerical_features] = X_train_temp[numerical_features].fillna(X_train_temp[numerical_features].mean())\n",
    "X_train_temp['Zip Code'] = X_train_temp['Zip Code'].fillna(X_train_temp['Zip Code'].mean())"
   ]
  },
  {
   "cell_type": "code",
   "execution_count": 24,
   "id": "2272d319-7abe-49ed-9d59-8940c58eae91",
   "metadata": {},
   "outputs": [
    {
     "data": {
      "image/png": "[encoded data removed]",
      "text/plain": [
       "<Figure size 576x720 with 1 Axes>"
      ]
     },
     "metadata": {
      "needs_background": "light"
     },
     "output_type": "display_data"
    },
    {
     "name": "stdout",
     "output_type": "stream",
     "text": [
      "Age at Injury                    0.000000\n",
      "WCIO Cause of Injury Code       -0.080942\n",
      "WCIO Nature of Injury Code       0.021726\n",
      "WCIO Part Of Body Code          -0.113625\n",
      "Number of Dependents            -0.003932\n",
      "Years Past Accident             -2.117953\n",
      "Assembly Years past Accident    -1.704722\n",
      "Industry Code                    0.374603\n",
      "Birth Year                      -0.471744\n",
      "Average Weekly Wage             34.650462\n",
      "IME-4 Count                      3.928841\n",
      "dtype: float64\n"
     ]
    }
   ],
   "source": [
    "# Perform feature selection using Lasso \n",
    "feature_selection_Lasso(X_train_temp[numerical_features],y_train_temp)"
   ]
  },
  {
   "cell_type": "code",
   "execution_count": 25,
   "id": "bb38c827-da59-4578-8750-a40f5c5f2402",
   "metadata": {},
   "outputs": [
    {
     "name": "stdout",
     "output_type": "stream",
     "text": [
      "Carrier Name is IMPORTANT for Prediction\n",
      "Carrier Type is IMPORTANT for Prediction\n",
      "County of Injury is IMPORTANT for Prediction\n",
      "District Name is IMPORTANT for Prediction\n",
      "Gender is IMPORTANT for Prediction\n",
      "Medical Fee Region is IMPORTANT for Prediction\n",
      "Zip Code is IMPORTANT for Prediction\n",
      "Attorney/Representative is IMPORTANT for Prediction\n",
      "COVID-19 Indicator is IMPORTANT for Prediction\n",
      "First Hearing Date Occurred is IMPORTANT for Prediction\n",
      "C-2 Date Occurred is IMPORTANT for Prediction\n",
      "C-3 Date Occurred is IMPORTANT for Prediction\n"
     ]
    }
   ],
   "source": [
    "# Check independence between features and target (Chi-square test) for categorical and binary features\n",
    "for col in categorical_features+binary_features:\n",
    "    TestIndependence(X_train_temp[col],y,col,alpha=0.05)"
   ]
  },
  {
   "cell_type": "markdown",
   "id": "2aee1e04-aa8a-43bc-8e1f-dacbb25cc919",
   "metadata": {},
   "source": [
    "<hr>\n",
    "\n",
    "### Numerical Data\n",
    "\n",
    "| Predictor | Spearman | RFE XGB| RFE DT | Lasso | What to do? (One possible way to \"solve\") |\n",
    "| --- | --- | --- | --- |--- |---|\n",
    "| Age at Injury | Keep? | Discard | Discard |Discard | Discard |\n",
    "| IME-4 Count | Keep | Keep | Keep |Keep| Include in the model |\n",
    "| WCIO Cause of Injury Code | Keep| Keep | Discard | Discard | Try with and without |\n",
    "| WCIO Nature of Injury Code | Keep | Keep | Keep | Discard | Include in the model |\n",
    "| WCIO Part Of Body Code | Keep | Keep | Discard | Discard | Try with and without |\n",
    "| Number of Dependents | Keep | Discard | Discard | Discard | Discard |\n",
    "| Years Past Accident | Keep | Keep | Discard | Keep | Include in the model |\n",
    "| Assembly Years past Accident | Discard |Keep |Discart | Keep |  Discard | # Years Past Accident\n",
    "| Industry Code | Keep |Keep |Discard | Keep |   Include in the model |\n",
    "| Birth Year | Keep? |Keep |Discard | Keep |  Try with and without |\n",
    "| Average Weekly Wage | Keep |Keep |Keep | Keep |  Include in the model |\n",
    "\n",
    "<hr>\n",
    "\n",
    "### Categorical Data\n",
    "\n",
    "| Predictor | Chi-Square |\n",
    "| --- | --- |\n",
    "| Carrier Name | Keep |  \n",
    "| Carrier Type | Keep |\n",
    "| County of Injury| Keep|\n",
    "| District Name| Keep|\n",
    "| Gender | Keep |\n",
    "| Medical Fee Region | Keep |\n",
    "| Attorney/Representative | Keep |\n",
    "| COVID-19 Indicator | Keep |\n",
    "| First Hearing Date Occurred | Keep |\n",
    "| C-2 Date Occurred | Keep |\n",
    "| C-3 Date Occurred| Keep |\n",
    "| Birth Year Occurred | Keep |\n",
    "| Age at Injury Occurred | Keep |\n",
    "| Accident Date Occurred | KEEP |\n",
    "\n",
    "<hr>"
   ]
  },
  {
   "cell_type": "markdown",
   "id": "f1c22ff1-17da-4573-96bd-aa628d780661",
   "metadata": {},
   "source": [
    "# Model Training"
   ]
  },
  {
   "cell_type": "code",
   "execution_count": 26,
   "id": "7315d584-3ebc-4ba5-8fd7-2647281d1156",
   "metadata": {},
   "outputs": [],
   "source": [
    "# Drop unimportant or redundant features\n",
    "features_to_drop = [\"Number of Dependents\",\"Assembly Years past Accident\",\"Birth Year\",\n",
    "                   \"Age at Injury\",\"WCIO Part Of Body Code\",\"WCIO Cause of Injury Code\"\n",
    "                   ]\n",
    "features_to_scale = [\"IME-4 Count\",\"WCIO Nature of Injury Code\",\n",
    "                     \"Years Past Accident\",\"Industry Code\",\"Average Weekly Wage\"] + categorical_features"
   ]
  },
  {
   "cell_type": "code",
   "execution_count": 27,
   "id": "ceed6d5d-aabf-4d8e-bd17-d156d371f9fd",
   "metadata": {},
   "outputs": [],
   "source": [
    "X_train_90.drop(features_to_drop,axis=1,inplace=True) # Drop unnecessary features"
   ]
  },
  {
   "cell_type": "code",
   "execution_count": 28,
   "id": "22fe3f0e-b883-4a42-9ca4-f99f689859c5",
   "metadata": {},
   "outputs": [
    {
     "name": "stdout",
     "output_type": "stream",
     "text": [
      "Index(['Attorney/Representative', 'Average Weekly Wage', 'Carrier Name',\n",
      "       'Carrier Type', 'County of Injury', 'COVID-19 Indicator',\n",
      "       'District Name', 'Gender', 'IME-4 Count', 'Industry Code',\n",
      "       'Medical Fee Region', 'WCIO Nature of Injury Code', 'Zip Code',\n",
      "       'Years Past Accident', 'First Hearing Date Occurred',\n",
      "       'C-2 Date Occurred', 'C-3 Date Occurred'],\n",
      "      dtype='object')\n"
     ]
    }
   ],
   "source": [
    "# Print columns after drop\n",
    "print(X_train_90.columns)\n",
    "features_to_use = [feature for feature in X_train_90.columns]"
   ]
  },
  {
   "cell_type": "code",
   "execution_count": 29,
   "id": "9f92f71b-fd5e-4fa0-947f-a604d33650e1",
   "metadata": {},
   "outputs": [],
   "source": [
    "# Initialize models: XGBoost, RandomForest, and DecisionTree classifiers\n",
    "\n",
    "XGB = xgb.XGBClassifier(\n",
    "                model = xgb.XGBClassifier(\n",
    "                use_label_encoder=False,  \n",
    "                n_estimators=100, \n",
    "                max_depth=6, \n",
    "                learning_rate=0.1,        \n",
    "                random_state=42           \n",
    "            ))\n",
    "\n",
    "RF = RandomForestClassifier(\n",
    "    n_estimators=100,         \n",
    "    max_depth=None,            \n",
    "    min_samples_split=2,       \n",
    "    min_samples_leaf=1,        \n",
    "    random_state=42,           \n",
    "    n_jobs=-1,                \n",
    ")\n",
    "\n",
    "DT = DecisionTreeClassifier(max_depth=5, min_samples_leaf=10, random_state=None)"
   ]
  },
  {
   "cell_type": "code",
   "execution_count": 30,
   "id": "474c6a92-a162-47b2-b65f-1366652d8c35",
   "metadata": {},
   "outputs": [],
   "source": [
    "#check_performace(XGB,X_train_90,y_train_90,features_to_scale,n_folds = 5)"
   ]
  },
  {
   "cell_type": "code",
   "execution_count": 31,
   "id": "68454003-f390-42a5-857f-0c1e7dba3711",
   "metadata": {},
   "outputs": [],
   "source": [
    "#check_performace(RF,X_train_90,y_train_90,features_to_scale,n_folds = 5)"
   ]
  },
  {
   "cell_type": "code",
   "execution_count": 32,
   "id": "ae01e3aa-4127-4379-bc0f-5d94197fe57f",
   "metadata": {},
   "outputs": [],
   "source": [
    "#check_performace(DT,X_train_90,y_train_90,features_to_scale,n_folds = 5)"
   ]
  },
  {
   "cell_type": "code",
   "execution_count": 35,
   "id": "76fd68d3",
   "metadata": {},
   "outputs": [
    {
     "name": "stdout",
     "output_type": "stream",
     "text": [
      "Validation XGB f1 score: 0.39303191344000193\n",
      "Validation RF f1 score: 0.3686013284838245\n",
      "Validation DT f1 score: 0.26351088246905147\n"
     ]
    }
   ],
   "source": [
    "# Impute missing values for specific features\n",
    "to_impute = [\"Average Weekly Wage\",\"Industry Code\"]\n",
    "imputer = KNNImputer(n_neighbors=3)\n",
    "X_train[to_impute] = imputer.fit_transform(X_train[to_impute])\n",
    "X_val[to_impute] = imputer.transform(X_val[to_impute])\n",
    "\n",
    "# Split training data into final training and validation sets\n",
    "X_train, X_val, y_train, y_val = train_test_split(X_train_90,y_train_90, test_size = 0.25, random_state = 42, stratify = y_train_90, shuffle = True)\n",
    "\n",
    "X_train = X_train.dropna()\n",
    "y_train = y_train.loc[X_train.index]\n",
    "\n",
    "# Apply SMOTE for class balancing\n",
    "smote = SMOTE(random_state=42)\n",
    "X_train, y_train = smote.fit_resample(X_train, y_train)\n",
    "\n",
    "# Scale selected features for training and validation sets\n",
    "scaler = StandardScaler().fit(X_train[features_to_scale])\n",
    "X_train[features_to_scale] = scaler.transform(X_train[features_to_scale])\n",
    "X_val[features_to_scale] = scaler.transform(X_val[features_to_scale])\n",
    "\n",
    "# Fit models: XGBoost, RandomForest, and DecisionTree\n",
    "XGB.fit(X_train, y_train)\n",
    "y_val_XGB_pred = XGB.predict(X_val)\n",
    "\n",
    "RF.fit(X_train, y_train)\n",
    "y_val_RF_pred = RF.predict(X_val)\n",
    "\n",
    "DT.fit(X_train, y_train)\n",
    "y_val_DT_pred = DT.predict(X_val)\n",
    "\n",
    "# Evaluate models using f1 score\n",
    "f1_XGB = f1_score(y_val, y_val_XGB_pred, average='macro')\n",
    "f1_RF = f1_score(y_val, y_val_RF_pred, average='macro')\n",
    "f1_DT = f1_score(y_val, y_val_DT_pred, average='macro')\n",
    "\n",
    "# Print f1 scores for each model\n",
    "print(f\"Validation XGB f1 score: {f1_XGB}\")\n",
    "print(f\"Validation RF f1 score: {f1_RF}\")\n",
    "print(f\"Validation DT f1 score: {f1_DT}\")\n"
   ]
  },
  {
   "cell_type": "code",
   "execution_count": 36,
   "id": "b5b84559-ed30-4c68-b15c-13d6e5ef4f1d",
   "metadata": {},
   "outputs": [],
   "source": [
    "# Drop features to match the test data format\n",
    "X_test.drop(features_to_drop, axis=1, inplace=True)"
   ]
  },
  {
   "cell_type": "code",
   "execution_count": 37,
   "id": "1550e850-53ad-4027-91e6-7d817b10a717",
   "metadata": {},
   "outputs": [],
   "source": [
    "to_impute = [\"Average Weekly Wage\",\"Industry Code\"]\n",
    "\n",
    "# Preprocessing on test data (similar to training data)\n",
    "X_test[features_to_scale]  = scaler.transform(X_test[features_to_scale]) \n",
    "X_test[to_impute] = imputer.transform(X_test[to_impute])\n",
    "\n",
    "# Make predictions on the test data using the trained models\n",
    "XGB_pred = XGB.predict(X_test)\n",
    "RF_pred = RF.predict(X_test)\n",
    "DT_pred = DT.predict(X_test)"
   ]
  },
  {
   "cell_type": "code",
   "execution_count": 38,
   "id": "a97b883f-a07d-412e-81ed-a3ebae2e448a",
   "metadata": {},
   "outputs": [
    {
     "name": "stdout",
     "output_type": "stream",
     "text": [
      "              precision    recall  f1-score   support\n",
      "\n",
      "           0       0.39      0.50      0.43      1017\n",
      "           1       0.86      0.90      0.88     27522\n",
      "           2       0.42      0.11      0.17      6646\n",
      "           3       0.67      0.83      0.74     14239\n",
      "           4       0.62      0.57      0.59      4644\n",
      "           5       0.10      0.12      0.11       403\n",
      "           6       0.00      0.00      0.00         9\n",
      "           7       0.17      0.49      0.25        41\n",
      "\n",
      "    accuracy                           0.74     54521\n",
      "   macro avg       0.40      0.44      0.40     54521\n",
      "weighted avg       0.72      0.74      0.72     54521\n",
      "\n"
     ]
    }
   ],
   "source": [
    "# Print classification reports for each model's predictions on the test data\n",
    "print(classification_report(y_test, XGB_pred))"
   ]
  },
  {
   "cell_type": "code",
   "execution_count": 39,
   "id": "26d7455c-5368-4345-b47c-cfeef088bc3d",
   "metadata": {},
   "outputs": [
    {
     "name": "stdout",
     "output_type": "stream",
     "text": [
      "              precision    recall  f1-score   support\n",
      "\n",
      "           0       0.28      0.08      0.13      1017\n",
      "           1       0.86      0.91      0.88     27522\n",
      "           2       0.36      0.14      0.20      6646\n",
      "           3       0.67      0.85      0.75     14239\n",
      "           4       0.60      0.56      0.58      4644\n",
      "           5       0.15      0.06      0.09       403\n",
      "           6       0.00      0.00      0.00         9\n",
      "           7       0.45      0.34      0.39        41\n",
      "\n",
      "    accuracy                           0.75     54521\n",
      "   macro avg       0.42      0.37      0.38     54521\n",
      "weighted avg       0.71      0.75      0.72     54521\n",
      "\n"
     ]
    }
   ],
   "source": [
    "print(classification_report(y_test, RF_pred))"
   ]
  },
  {
   "cell_type": "code",
   "execution_count": 40,
   "id": "450e1195-9f19-4074-a876-f17a3a33cfce",
   "metadata": {},
   "outputs": [
    {
     "name": "stdout",
     "output_type": "stream",
     "text": [
      "              precision    recall  f1-score   support\n",
      "\n",
      "           0       0.05      0.46      0.10      1017\n",
      "           1       0.85      0.67      0.75     27522\n",
      "           2       0.33      0.09      0.15      6646\n",
      "           3       0.66      0.36      0.47     14239\n",
      "           4       0.38      0.71      0.50      4644\n",
      "           5       0.05      0.46      0.09       403\n",
      "           6       0.00      0.44      0.01         9\n",
      "           7       0.04      0.68      0.08        41\n",
      "\n",
      "    accuracy                           0.52     54521\n",
      "   macro avg       0.30      0.49      0.27     54521\n",
      "weighted avg       0.68      0.52      0.56     54521\n",
      "\n"
     ]
    }
   ],
   "source": [
    "print(classification_report(y_test, DT_pred))"
   ]
  },
  {
   "cell_type": "code",
   "execution_count": 41,
   "id": "5318c2e3-a5cd-4049-a03d-4240915bb5b3",
   "metadata": {},
   "outputs": [],
   "source": [
    "# Load test data and sample submission file\n",
    "test_df = pd.read_csv(\"test_data.csv\", index_col=\"Claim Identifier\")\n",
    "submission = pd.read_csv(\"sample_submission.csv\")\n",
    "\n",
    "# Initialize a dictionary to store encoding mappings\n",
    "test_encoder_dict = {}"
   ]
  },
  {
   "cell_type": "code",
   "execution_count": 42,
   "id": "1ba98cd2-81eb-4968-8dbf-4baa95abc492",
   "metadata": {},
   "outputs": [
    {
     "name": "stdout",
     "output_type": "stream",
     "text": [
      "Accident Date: 0.63% missing values\n",
      "Average Weekly Wage: 4.95% missing values\n",
      "Birth Year: 5.02% missing values\n",
      "C-2 Date: 2.35% missing values\n",
      "C-3 Date: 78.04% missing values\n",
      "First Hearing Date: 88.91% missing values\n",
      "IME-4 Count: 90.91% missing values\n",
      "Industry Code: 1.99% missing values\n",
      "Industry Code Description: 1.99% missing values\n",
      "OIICS Nature of Injury Description: 100.00% missing values\n",
      "WCIO Cause of Injury Code: 2.67% missing values\n",
      "WCIO Cause of Injury Description: 2.67% missing values\n",
      "WCIO Nature of Injury Code: 2.72% missing values\n",
      "WCIO Nature of Injury Description: 2.72% missing values\n",
      "WCIO Part Of Body Code: 2.46% missing values\n",
      "WCIO Part Of Body Description: 2.46% missing values\n",
      "Zip Code: 4.99% missing values\n"
     ]
    }
   ],
   "source": [
    "# Calculate and display the percentage of missing values for each column in the test data\n",
    "missing_percentage = test_df.isna().sum() / len(test_df) * 100\n",
    "for col, percent in missing_percentage.items():\n",
    "    if not percent == 0:\n",
    "        print(f\"{col}: {percent:.2f}% missing values\")"
   ]
  },
  {
   "cell_type": "code",
   "execution_count": 43,
   "id": "f38eb92a-49f4-4465-a99a-2401f12bf07a",
   "metadata": {},
   "outputs": [],
   "source": [
    "# List of categorical features to be encoded using frequency encoding\n",
    "features_to_encode_freq = [\"Carrier Name\", \"County of Injury\", \"District Name\", \"Gender\", \"Medical Fee Region\", \"Zip Code\"]\n",
    "\n",
    "# List of binary features to be encoded using binary encoding\n",
    "features_to_encode_binary = [\"Attorney/Representative\", \"COVID-19 Indicator\", \"Carrier Type\", \"Alternative Dispute Resolution\"]\n",
    "\n",
    "# List of descriptive features that provide additional information (e.g., descriptions of injury codes)\n",
    "features_descriptions = [\"Industry Code Description\",\"WCIO Cause of Injury Description\", \"WCIO Cause of Injury Description\",\n",
    "                        \"WCIO Nature of Injury Description\", \"WCIO Part Of Body Description\", \"OIICS Nature of Injury Description\",\n",
    "                         \"Accident Date\"]\n",
    "\n",
    "# Features that need to be converted into dummy variables (one-hot encoding)\n",
    "features_to_dummy = [\"First Hearing Date\", \"C-2 Date\", \"C-3 Date\"]\n",
    "\n",
    "# Features that need to be processed as the number of days from a reference date\n",
    "features_to_days = [\"Assembly Date\"]"
   ]
  },
  {
   "cell_type": "code",
   "execution_count": 44,
   "id": "9f13c02b-4305-44e5-a81c-c24b9788c26b",
   "metadata": {},
   "outputs": [],
   "source": [
    "# Handle missing values in the test data (similar to training data)\n",
    "test_df[\"Age at Injury\"].fillna(test_df[\"Age at Injury\"].mean(), inplace=True)\n",
    "test_df['Accident Date'] = pd.to_datetime(test_df['Accident Date'], errors='coerce')\n",
    "test_df['Birth Year'] = test_df['Birth Year'].fillna(\n",
    "    test_df['Accident Date'].dt.year - test_df['Age at Injury'])"
   ]
  },
  {
   "cell_type": "code",
   "execution_count": 45,
   "id": "7490c5ea-e22e-48de-acd7-927e25888161",
   "metadata": {},
   "outputs": [],
   "source": [
    "# Handle anomalies and missing values in specific columns like 'Zip Code'\n",
    "zip_code_anomalies = test_df[test_df['Zip Code'].notna()  # 'Zip Code' is not missing\n",
    "        & test_df['Zip Code'].apply(lambda x: not str(x).isnumeric())]  # 'Zip Code' is not numeric\n",
    "\n",
    "# Replace anomalous zip codes with NaN\n",
    "test_df.loc[test_df['Zip Code'].isin(zip_code_anomalies['Zip Code']), 'Zip Code'] = np.nan"
   ]
  },
  {
   "cell_type": "code",
   "execution_count": 46,
   "id": "9c0b3308-c7dc-4d24-9d9f-cd908d61d58b",
   "metadata": {},
   "outputs": [],
   "source": [
    "# Replace 'U' in 'Gender' column (possibly unknown) with 'X'\n",
    "test_df[\"Gender\"] = test_df[\"Gender\"].replace(\"U\",\"X\")\n",
    "# Fill missing values in several injury-related columns with 0\n",
    "test_df[\"IME-4 Count\"].fillna(0,inplace=True)\n",
    "test_df[\"WCIO Cause of Injury Code\"].fillna(0,inplace=True)\n",
    "test_df[\"WCIO Nature of Injury Code\"].fillna(0,inplace=True)\n",
    "test_df[\"WCIO Part Of Body Code\"].fillna(0,inplace=True)\n",
    "test_df[\"Zip Code\"].fillna(0,inplace=True)\n",
    "# Create a new feature 'Years Past Accident' by calculating the difference between the accident date and a reference date\n",
    "test_df[\"Years Past Accident\"] = (pd.to_datetime(test_df[\"Accident Date\"], errors='coerce') - reference_date).dt.days / 365.25"
   ]
  },
  {
   "cell_type": "code",
   "execution_count": 47,
   "id": "99f2f5b4-adff-49ec-b755-19bd93b53da0",
   "metadata": {},
   "outputs": [],
   "source": [
    "# Cap the 'IME-4 Count' to a maximum of 15 to avoid extreme outliers\n",
    "test_df.loc[test_df[\"IME-4 Count\"] > 15, \"IME-4 Count\"] = 15"
   ]
  },
  {
   "cell_type": "code",
   "execution_count": 48,
   "id": "de97b5f8-26d3-4ac6-828d-df0a5ab1e03f",
   "metadata": {},
   "outputs": [],
   "source": [
    "# Apply frequency and binary encoding to categorical features\n",
    "multiencoder(test_df, features_to_encode_freq, \"frequency\", test_encoder_dict)\n",
    "multiencoder(test_df, features_to_encode_binary, \"binary\", test_encoder_dict)\n",
    "# Generate dummy variables for categorical features in 'features_to_dummy'\n",
    "gen_dummy(test_df,features_to_dummy)\n",
    "# Process 'features_to_days' to calculate the number of days past a reference date\n",
    "date_past_accident(test_df, features_to_days)"
   ]
  },
  {
   "cell_type": "code",
   "execution_count": 49,
   "id": "9deb66df-b794-4131-a5ff-c3a730c66557",
   "metadata": {},
   "outputs": [],
   "source": [
    "features_to_drop_test = []"
   ]
  },
  {
   "cell_type": "code",
   "execution_count": 50,
   "id": "40954699-eb53-4058-b9f0-3345bd10978a",
   "metadata": {},
   "outputs": [],
   "source": [
    "# Identify features to drop from the test data that are not in the list of features to use for modeling\n",
    "for feature in test_df.columns:\n",
    "    if feature not in features_to_use:\n",
    "        features_to_drop_test.append(feature)"
   ]
  },
  {
   "cell_type": "code",
   "execution_count": 51,
   "id": "f1ab91da-399b-4d85-a2a1-ee2038cfea93",
   "metadata": {},
   "outputs": [],
   "source": [
    "# Drop the unnecessary features from the test data\n",
    "test_df.drop(features_to_drop_test,axis=1,inplace=True)"
   ]
  },
  {
   "cell_type": "code",
   "execution_count": 52,
   "id": "67561309-b6be-4923-a3f0-eb488dab15a2",
   "metadata": {},
   "outputs": [],
   "source": [
    "# Scale the features that require normalization using a previously fitted scaler\n",
    "test_df[features_to_scale]  = scaler.transform(test_df[features_to_scale])  "
   ]
  },
  {
   "cell_type": "code",
   "execution_count": 53,
   "id": "7f730d1e-88b0-43b1-9814-46d3476b2ae3",
   "metadata": {},
   "outputs": [],
   "source": [
    "# Impute missing values in 'Average Weekly Wage' and 'Industry Code' using a pre-fitted imputer\n",
    "to_impute = [\"Average Weekly Wage\",\"Industry Code\"]\n",
    "test_df[to_impute] = imputer.transform(test_df[to_impute])"
   ]
  },
  {
   "cell_type": "code",
   "execution_count": 54,
   "id": "29b4b9c0-a249-4cf9-be7a-e98c46010bca",
   "metadata": {},
   "outputs": [],
   "source": [
    "# Flag to determine whether to generate a CSV output for submission\n",
    "make_csv = True"
   ]
  },
  {
   "cell_type": "code",
   "execution_count": 55,
   "id": "d92baaea-030e-4ea3-a756-0c6d8cb366fe",
   "metadata": {},
   "outputs": [],
   "source": [
    "# Mapping of model output classes to human-readable labels\n",
    "class_mapping = {0: '1. CANCELLED', 1: '2. NON-COMP', 2: '3. MED ONLY', 3: '4. TEMPORARY', 4: '5. PPD SCH LOSS', 5: '6. PPD NSL', 6: '7. PTD', 7: '8. DEATH'}\n",
    "\n",
    "# Initialize label encoder and assign the class labels based on the mapping\n",
    "test_encoder = LabelEncoder()\n",
    "test_encoder.classes_ = np.array(list(class_mapping.values()))"
   ]
  },
  {
   "cell_type": "code",
   "execution_count": 58,
   "id": "1af735a4-c8a4-4add-88c7-3b20a731833e",
   "metadata": {},
   "outputs": [],
   "source": [
    "# Define the model\n",
    "model = #model\n",
    "# Make predictions using the trained model on the test data\n",
    "test_pred = model.predict(test_df)\n",
    "# Add the predicted 'Claim Injury Type' to the submission dataframe\n",
    "submission[\"Claim Injury Type\"] = test_pred\n",
    "# Convert the numerical predicted classes back to their corresponding human-readable labels using the label encoder\n",
    "submission[\"Claim Injury Type\"] = test_encoder.inverse_transform(submission[\"Claim Injury Type\"])\n",
    "# If 'make_csv' is True, save the predictions to a CSV file with version control\n",
    "if make_csv:\n",
    "    version = version_control(\"./counter.txt\")\n",
    "    submission.to_csv(f\"Group45_Version{version:02}.csv\", index=False)"
   ]
  }
 ],
 "metadata": {
  "kernelspec": {
   "display_name": "Python 3 (ipykernel)",
   "language": "python",
   "name": "python3"
  },
  "language_info": {
   "codemirror_mode": {
    "name": "ipython",
    "version": 3
   },
   "file_extension": ".py",
   "mimetype": "text/x-python",
   "name": "python",
   "nbconvert_exporter": "python",
   "pygments_lexer": "ipython3",
   "version": "3.9.12"
  }
 },
 "nbformat": 4,
 "nbformat_minor": 5
}
