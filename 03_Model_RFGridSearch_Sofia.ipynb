{
 "cells": [
  {
   "cell_type": "markdown",
   "id": "eba226d5",
   "metadata": {},
   "source": [
    "\n",
    "- 20240536 Inês Jacinto 20240536@novaims.unl.pt\n",
    "- 20240561 Antônio Ramos 20240561@novaims.unl.pt \n",
    "- 20240598 Sofia Jacinto 20240598@novaims.unl.pt \n",
    "- 20240750 Marisa Marques 20240750@novaims.unl.pt"
   ]
  },
  {
   "cell_type": "code",
   "execution_count": 1,
   "id": "981eef7d",
   "metadata": {},
   "outputs": [],
   "source": [
    "# General Imports\n",
    "import numpy as np\n",
    "import pandas as pd\n",
    "import seaborn as sns\n",
    "import matplotlib.pyplot as plt\n",
    "\n",
    "# Sklearn packages\n",
    "from sklearn.preprocessing import StandardScaler, MinMaxScaler, RobustScaler\n",
    "from sklearn.model_selection import train_test_split\n",
    "from sklearn.impute import KNNImputer\n",
    "from sklearn.feature_selection import RFE\n",
    "from sklearn.model_selection import StratifiedKFold\n",
    "\n",
    "# Models\n",
    "from sklearn.linear_model import LogisticRegression\n",
    "from sklearn.neighbors import KNeighborsClassifier\n",
    "from sklearn.tree import DecisionTreeClassifier\n",
    "\n",
    "# embedded methods\n",
    "from sklearn.linear_model import LassoCV\n",
    "import scipy.stats as stats\n",
    "from scipy.stats import chi2_contingency\n",
    "\n",
    "from sklearn.preprocessing import LabelEncoder\n",
    "\n",
    "from imblearn.over_sampling import SMOTE\n",
    "from imblearn.under_sampling import RandomUnderSampler\n",
    "\n",
    "from sklearn.metrics import classification_report, f1_score\n",
    "\n",
    "from util_train import *\n",
    "from utils import *\n",
    "import xgboost as xgb\n",
    "\n",
    "import warnings\n",
    "warnings.filterwarnings(\"ignore\")\n",
    "\n",
    "%load_ext autoreload\n",
    "%autoreload 2"
   ]
  },
  {
   "cell_type": "code",
   "execution_count": 2,
   "id": "9ef495ce",
   "metadata": {},
   "outputs": [
    {
     "name": "stdout",
     "output_type": "stream",
     "text": [
      "Requirement already satisfied: ray in c:\\users\\35196\\anaconda3\\lib\\site-packages (2.0.0)\n",
      "Requirement already satisfied: attrs in c:\\users\\35196\\anaconda3\\lib\\site-packages (from ray) (21.4.0)\n",
      "Requirement already satisfied: click<=8.0.4,>=7.0 in c:\\users\\35196\\anaconda3\\lib\\site-packages (from ray) (8.0.4)\n",
      "Requirement already satisfied: filelock in c:\\users\\35196\\anaconda3\\lib\\site-packages (from ray) (3.16.1)\n",
      "Requirement already satisfied: jsonschema in c:\\users\\35196\\anaconda3\\lib\\site-packages (from ray) (4.4.0)\n",
      "Requirement already satisfied: msgpack<2.0.0,>=1.0.0 in c:\\users\\35196\\anaconda3\\lib\\site-packages (from ray) (1.0.2)\n",
      "Requirement already satisfied: protobuf<4.0.0,>=3.15.3 in c:\\users\\35196\\anaconda3\\lib\\site-packages (from ray) (3.19.0)\n",
      "Requirement already satisfied: pyyaml in c:\\users\\35196\\anaconda3\\lib\\site-packages (from ray) (6.0)\n",
      "Requirement already satisfied: aiosignal in c:\\users\\35196\\anaconda3\\lib\\site-packages (from ray) (1.2.0)\n",
      "Requirement already satisfied: frozenlist in c:\\users\\35196\\anaconda3\\lib\\site-packages (from ray) (1.2.0)\n",
      "Requirement already satisfied: requests in c:\\users\\35196\\anaconda3\\lib\\site-packages (from ray) (2.27.1)\n",
      "Requirement already satisfied: virtualenv in c:\\users\\35196\\anaconda3\\lib\\site-packages (from ray) (20.28.0)\n",
      "Requirement already satisfied: grpcio<=1.43.0,>=1.28.1 in c:\\users\\35196\\anaconda3\\lib\\site-packages (from ray) (1.42.0)\n",
      "Requirement already satisfied: numpy>=1.19.3 in c:\\users\\35196\\anaconda3\\lib\\site-packages (from ray) (1.21.5)\n",
      "Requirement already satisfied: colorama in c:\\users\\35196\\anaconda3\\lib\\site-packages (from click<=8.0.4,>=7.0->ray) (0.4.4)\n",
      "Requirement already satisfied: six>=1.5.2 in c:\\users\\35196\\anaconda3\\lib\\site-packages (from grpcio<=1.43.0,>=1.28.1->ray) (1.16.0)\n",
      "Requirement already satisfied: pyrsistent!=0.17.0,!=0.17.1,!=0.17.2,>=0.14.0 in c:\\users\\35196\\anaconda3\\lib\\site-packages (from jsonschema->ray) (0.18.0)\n",
      "Requirement already satisfied: urllib3<1.27,>=1.21.1 in c:\\users\\35196\\anaconda3\\lib\\site-packages (from requests->ray) (1.26.9)\n",
      "Requirement already satisfied: certifi>=2017.4.17 in c:\\users\\35196\\anaconda3\\lib\\site-packages (from requests->ray) (2021.10.8)\n",
      "Requirement already satisfied: charset-normalizer~=2.0.0 in c:\\users\\35196\\anaconda3\\lib\\site-packages (from requests->ray) (2.0.4)\n",
      "Requirement already satisfied: idna<4,>=2.5 in c:\\users\\35196\\anaconda3\\lib\\site-packages (from requests->ray) (3.3)\n",
      "Requirement already satisfied: distlib<1,>=0.3.7 in c:\\users\\35196\\anaconda3\\lib\\site-packages (from virtualenv->ray) (0.3.9)\n",
      "Requirement already satisfied: platformdirs<5,>=3.9.1 in c:\\users\\35196\\anaconda3\\lib\\site-packages (from virtualenv->ray) (4.3.6)\n"
     ]
    }
   ],
   "source": [
    "!pip install ray"
   ]
  },
  {
   "cell_type": "code",
   "execution_count": 3,
   "id": "84048861",
   "metadata": {},
   "outputs": [],
   "source": [
    "# Importing the Ray library for distributed parallel processing\n",
    "import ray"
   ]
  },
  {
   "cell_type": "code",
   "execution_count": 4,
   "id": "862bc778",
   "metadata": {},
   "outputs": [
    {
     "name": "stderr",
     "output_type": "stream",
     "text": [
      "2024-12-06 14:33:07,411\tINFO worker.py:1518 -- Started a local Ray instance.\n"
     ]
    },
    {
     "data": {
      "text/html": [
       "<div>\n",
       "    <div style=\"margin-left: 50px;display: flex;flex-direction: row;align-items: center\">\n",
       "        <h3 style=\"color: var(--jp-ui-font-color0)\">Ray</h3>\n",
       "        <svg version=\"1.1\" id=\"ray\" width=\"3em\" viewBox=\"0 0 144.5 144.6\" style=\"margin-left: 3em;margin-right: 3em\">\n",
       "            <g id=\"layer-1\">\n",
       "                <path fill=\"#00a2e9\" class=\"st0\" d=\"M97.3,77.2c-3.8-1.1-6.2,0.9-8.3,5.1c-3.5,6.8-9.9,9.9-17.4,9.6S58,88.1,54.8,81.2c-1.4-3-3-4-6.3-4.1\n",
       "                    c-5.6-0.1-9.9,0.1-13.1,6.4c-3.8,7.6-13.6,10.2-21.8,7.6C5.2,88.4-0.4,80.5,0,71.7c0.1-8.4,5.7-15.8,13.8-18.2\n",
       "                    c8.4-2.6,17.5,0.7,22.3,8c1.3,1.9,1.3,5.2,3.6,5.6c3.9,0.6,8,0.2,12,0.2c1.8,0,1.9-1.6,2.4-2.8c3.5-7.8,9.7-11.8,18-11.9\n",
       "                    c8.2-0.1,14.4,3.9,17.8,11.4c1.3,2.8,2.9,3.6,5.7,3.3c1-0.1,2,0.1,3,0c2.8-0.5,6.4,1.7,8.1-2.7s-2.3-5.5-4.1-7.5\n",
       "                    c-5.1-5.7-10.9-10.8-16.1-16.3C84,38,81.9,37.1,78,38.3C66.7,42,56.2,35.7,53,24.1C50.3,14,57.3,2.8,67.7,0.5\n",
       "                    C78.4-2,89,4.7,91.5,15.3c0.1,0.3,0.1,0.5,0.2,0.8c0.7,3.4,0.7,6.9-0.8,9.8c-1.7,3.2-0.8,5,1.5,7.2c6.7,6.5,13.3,13,19.8,19.7\n",
       "                    c1.8,1.8,3,2.1,5.5,1.2c9.1-3.4,17.9-0.6,23.4,7c4.8,6.9,4.6,16.1-0.4,22.9c-5.4,7.2-14.2,9.9-23.1,6.5c-2.3-0.9-3.5-0.6-5.1,1.1\n",
       "                    c-6.7,6.9-13.6,13.7-20.5,20.4c-1.8,1.8-2.5,3.2-1.4,5.9c3.5,8.7,0.3,18.6-7.7,23.6c-7.9,5-18.2,3.8-24.8-2.9\n",
       "                    c-6.4-6.4-7.4-16.2-2.5-24.3c4.9-7.8,14.5-11,23.1-7.8c3,1.1,4.7,0.5,6.9-1.7C91.7,98.4,98,92.3,104.2,86c1.6-1.6,4.1-2.7,2.6-6.2\n",
       "                    c-1.4-3.3-3.8-2.5-6.2-2.6C99.8,77.2,98.9,77.2,97.3,77.2z M72.1,29.7c5.5,0.1,9.9-4.3,10-9.8c0-0.1,0-0.2,0-0.3\n",
       "                    C81.8,14,77,9.8,71.5,10.2c-5,0.3-9,4.2-9.3,9.2c-0.2,5.5,4,10.1,9.5,10.3C71.8,29.7,72,29.7,72.1,29.7z M72.3,62.3\n",
       "                    c-5.4-0.1-9.9,4.2-10.1,9.7c0,0.2,0,0.3,0,0.5c0.2,5.4,4.5,9.7,9.9,10c5.1,0.1,9.9-4.7,10.1-9.8c0.2-5.5-4-10-9.5-10.3\n",
       "                    C72.6,62.3,72.4,62.3,72.3,62.3z M115,72.5c0.1,5.4,4.5,9.7,9.8,9.9c5.6-0.2,10-4.8,10-10.4c-0.2-5.4-4.6-9.7-10-9.7\n",
       "                    c-5.3-0.1-9.8,4.2-9.9,9.5C115,72.1,115,72.3,115,72.5z M19.5,62.3c-5.4,0.1-9.8,4.4-10,9.8c-0.1,5.1,5.2,10.4,10.2,10.3\n",
       "                    c5.6-0.2,10-4.9,9.8-10.5c-0.1-5.4-4.5-9.7-9.9-9.6C19.6,62.3,19.5,62.3,19.5,62.3z M71.8,134.6c5.9,0.2,10.3-3.9,10.4-9.6\n",
       "                    c0.5-5.5-3.6-10.4-9.1-10.8c-5.5-0.5-10.4,3.6-10.8,9.1c0,0.5,0,0.9,0,1.4c-0.2,5.3,4,9.8,9.3,10\n",
       "                    C71.6,134.6,71.7,134.6,71.8,134.6z\"/>\n",
       "            </g>\n",
       "        </svg>\n",
       "        <table>\n",
       "            <tr>\n",
       "                <td style=\"text-align: left\"><b>Python version:</b></td>\n",
       "                <td style=\"text-align: left\"><b>3.9.12</b></td>\n",
       "            </tr>\n",
       "            <tr>\n",
       "                <td style=\"text-align: left\"><b>Ray version:</b></td>\n",
       "                <td style=\"text-align: left\"><b> 2.0.0</b></td>\n",
       "            </tr>\n",
       "            \n",
       "        </table>\n",
       "    </div>\n",
       "</div>\n"
      ],
      "text/plain": [
       "RayContext(dashboard_url='', python_version='3.9.12', ray_version='2.0.0', ray_commit='cba26cc83f6b5b8a2ff166594a65cb74c0ec8740', address_info={'node_ip_address': '127.0.0.1', 'raylet_ip_address': '127.0.0.1', 'redis_address': None, 'object_store_address': 'tcp://127.0.0.1:64818', 'raylet_socket_name': 'tcp://127.0.0.1:63471', 'webui_url': '', 'session_dir': 'C:\\\\Users\\\\35196\\\\AppData\\\\Local\\\\Temp\\\\ray\\\\session_2024-12-06_14-33-03_881657_13540', 'metrics_export_port': 64231, 'gcs_address': '127.0.0.1:64064', 'address': '127.0.0.1:64064', 'dashboard_agent_listen_port': 52365, 'node_id': 'c951367c213be293a7c6703c08ab3af2bf82320acb86bb072c41af0d'})"
      ]
     },
     "execution_count": 4,
     "metadata": {},
     "output_type": "execute_result"
    }
   ],
   "source": [
    "# Initializing Ray, necessary for parallel distributed processing\n",
    "ray.init()"
   ]
  },
  {
   "cell_type": "code",
   "execution_count": 5,
   "id": "38dbb058",
   "metadata": {},
   "outputs": [],
   "source": [
    "#Set the reference date\n",
    "reference_date = pd.to_datetime(\"2023-01-01\")"
   ]
  },
  {
   "cell_type": "code",
   "execution_count": 6,
   "id": "ae6ea7d7",
   "metadata": {},
   "outputs": [],
   "source": [
    "# Loading the dataset after EDA (Exploratory Data Analysis)\n",
    "train_df = pd.read_csv(\"train_data_after_EDA.csv\", index_col=\"Claim Identifier\")"
   ]
  },
  {
   "cell_type": "code",
   "execution_count": 7,
   "id": "c26ea41e",
   "metadata": {},
   "outputs": [],
   "source": [
    "numerical_features = [\n",
    "    \"Age at Injury\",\n",
    "    \"WCIO Cause of Injury Code\",\n",
    "    \"WCIO Nature of Injury Code\",\n",
    "    \"WCIO Part Of Body Code\",\n",
    "    \"Number of Dependents\",\n",
    "    \"Years Past Accident\",\n",
    "    \"Assembly Years past Accident\",\n",
    "    \"Industry Code\",\n",
    "    \"Birth Year\",\n",
    "    \"Average Weekly Wage\",\n",
    "    \"IME-4 Count\"\n",
    "]\n",
    "\n",
    "categorical_features = [\n",
    "    \"Carrier Name\",\n",
    "    \"Carrier Type\",\n",
    "    \"County of Injury\",\n",
    "    \"District Name\",\n",
    "    \"Gender\",\n",
    "    \"Medical Fee Region\",\n",
    "    \"Zip Code\"\n",
    "]\n",
    "\n",
    "binary_features = [\n",
    "    \"Alternative Dispute Resolution\",\n",
    "    \"Attorney/Representative\",\n",
    "    \"COVID-19 Indicator\",\n",
    "    \"First Hearing Date Occurred\",\n",
    "    \"C-2 Date Occurred\",\n",
    "    \"C-3 Date Occurred\"\n",
    "]\n"
   ]
  },
  {
   "cell_type": "code",
   "execution_count": 8,
   "id": "ae166296",
   "metadata": {},
   "outputs": [],
   "source": [
    "# Separating the independent variables (X) and the target variable (y) for the model\n",
    "X = train_df.drop([\"Claim Injury Type\"], axis = 1)\n",
    "y = train_df[\"Claim Injury Type\"]"
   ]
  },
  {
   "cell_type": "code",
   "execution_count": 9,
   "id": "4b2025f7",
   "metadata": {},
   "outputs": [],
   "source": [
    "# Splitting the data into training (90%) and test (10%) sets\n",
    "X, X_test, y, y_test = train_test_split(X,y, test_size = 0.1, random_state = None, stratify = y, shuffle = True)"
   ]
  },
  {
   "cell_type": "code",
   "execution_count": 10,
   "id": "200518c8",
   "metadata": {},
   "outputs": [],
   "source": [
    "# Further splitting the training data into train (75%) and validation (25%) sets\n",
    "X_train, X_val, y_train, y_val = train_test_split(X, y, test_size = 0.25, random_state = None, stratify = y)"
   ]
  },
  {
   "cell_type": "code",
   "execution_count": 11,
   "id": "4bdc283c",
   "metadata": {},
   "outputs": [],
   "source": [
    "# Defining the features to be dropped and to be scaled before training\n",
    "features_to_drop = [\"Number of Dependents\",\"Assembly Years past Accident\",\"Birth Year\",\n",
    "                   \"Age at Injury\",\"WCIO Part Of Body Code\",\"WCIO Cause of Injury Code\",\"Accident Date\"]\n",
    "features_to_scale = [\"IME-4 Count\",\"WCIO Nature of Injury Code\",\n",
    "                     \"Years Past Accident\",\"Industry Code\",\"Average Weekly Wage\"] + categorical_features"
   ]
  },
  {
   "cell_type": "code",
   "execution_count": 12,
   "id": "f072e208",
   "metadata": {},
   "outputs": [],
   "source": [
    "from sklearn.impute import SimpleImputer"
   ]
  },
  {
   "cell_type": "code",
   "execution_count": 13,
   "id": "b53dbcdc",
   "metadata": {},
   "outputs": [],
   "source": [
    "# Imputing missing values in the selected columns\n",
    "to_impute = [\"Average Weekly Wage\",\"Industry Code\"]\n",
    "imputer = SimpleImputer(strategy=\"mean\")\n",
    "X_train[to_impute] = imputer.fit_transform(X_train[to_impute])\n",
    "X_val[to_impute] = imputer.transform(X_val[to_impute])"
   ]
  },
  {
   "cell_type": "code",
   "execution_count": 14,
   "id": "ea127d0c",
   "metadata": {},
   "outputs": [],
   "source": [
    "# Scaling the numerical columns with StandardScaler\n",
    "scaler = StandardScaler().fit(X_train[features_to_scale])\n",
    "X_train[features_to_scale] = scaler.transform(X_train[features_to_scale])\n",
    "X_val[features_to_scale] = scaler.transform(X_val[features_to_scale])"
   ]
  },
  {
   "cell_type": "code",
   "execution_count": 15,
   "id": "ca9b6566",
   "metadata": {},
   "outputs": [],
   "source": [
    "# Dropping the unnecessary columns\n",
    "X_train.drop(features_to_drop, axis=1, inplace=True)\n",
    "X_val.drop(features_to_drop, axis=1, inplace=True)"
   ]
  },
  {
   "cell_type": "code",
   "execution_count": 16,
   "id": "cb27110f",
   "metadata": {},
   "outputs": [],
   "source": [
    "from sklearn.ensemble import RandomForestClassifier\n",
    "from sklearn.metrics import f1_score"
   ]
  },
  {
   "cell_type": "code",
   "execution_count": 17,
   "id": "7ab60819",
   "metadata": {},
   "outputs": [],
   "source": [
    "# Function to execute GridSearch using Ray\n",
    "def RF_GridSearch(config):\n",
    "    # Retrieving data references from Ray\n",
    "    X_train = ray.get(X_train_ref)\n",
    "    y_train = ray.get(y_train_ref)\n",
    "    # Initializing the RandomForest model with the hyperparameters from the search\n",
    "    rf = RandomForestClassifier(\n",
    "        max_depth=config[\"max_depth\"],\n",
    "        n_estimators=config[\"n_estimators\"],\n",
    "        random_state=42)\n",
    "    # Training the model\n",
    "    rf.fit(X_train, y_train)\n",
    "    # Returning the F1 score on the validation set\n",
    "    return {\"f1_score\": rf.score(X_val, y_val)}"
   ]
  },
  {
   "cell_type": "code",
   "execution_count": 18,
   "id": "f4594464",
   "metadata": {},
   "outputs": [],
   "source": [
    "from ray import tune\n",
    "from ray.tune.schedulers import ASHAScheduler"
   ]
  },
  {
   "cell_type": "code",
   "execution_count": 19,
   "id": "fa96cc24",
   "metadata": {},
   "outputs": [
    {
     "data": {
      "text/html": [
       "== Status ==<br>Current time: 2024-12-06 14:37:17 (running for 00:04:01.58)<br>Memory usage on this node: 6.3/7.8 GiB<br>Using AsyncHyperBand: num_stopped=3\n",
       "Bracket: Iter 64.000: None | Iter 16.000: None | Iter 4.000: None | Iter 1.000: 0.7711276503819159<br>Resources requested: 0/4 CPUs, 0/0 GPUs, 0.0/1.74 GiB heap, 0.0/0.87 GiB objects<br>Result logdir: C:\\Users\\35196\\ray_results\\RF_GridSearch_2024-12-06_14-33-15<br>Number of trials: 9/9 (9 TERMINATED)<br><br>"
      ],
      "text/plain": [
       "<IPython.core.display.HTML object>"
      ]
     },
     "metadata": {},
     "output_type": "display_data"
    },
    {
     "name": "stderr",
     "output_type": "stream",
     "text": [
      "2024-12-06 14:33:21,022\tWARNING worker.py:1829 -- Warning: The actor ImplicitFunc is very large (20 MiB). Check that its definition is not implicitly capturing a large array or other object in scope. Tip: use ray.put() to put large objects in the Ray object store.\n",
      "2024-12-06 14:37:17,411\tINFO tune.py:758 -- Total run time: 242.42 seconds (241.57 seconds for the tuning loop).\n"
     ]
    }
   ],
   "source": [
    "# Putting data references into Ray for parallel execution\n",
    "X_train_ref = ray.put(X_train)\n",
    "y_train_ref = ray.put(y_train)\n",
    "\n",
    "# Define the hyperparameter search space\n",
    "search_space = {\"max_depth\": tune.grid_search([3, 5, 7]),\n",
    "                \"n_estimators\": tune.grid_search([50, 100, 200])}\n",
    "\n",
    "# Execute the grid search\n",
    "analysis = tune.run(\n",
    "    RF_GridSearch,\n",
    "    config=search_space,\n",
    "    resources_per_trial={\"cpu\": 1},  \n",
    "    scheduler=ASHAScheduler(metric=\"f1_score\", mode=\"max\"),  \n",
    "    verbose=1)"
   ]
  },
  {
   "cell_type": "code",
   "execution_count": 20,
   "id": "fb7bbe84",
   "metadata": {},
   "outputs": [
    {
     "name": "stdout",
     "output_type": "stream",
     "text": [
      "Best hyperparameters: {'max_depth': 7, 'n_estimators': 200}\n"
     ]
    }
   ],
   "source": [
    "# Retrieving the best configuration\n",
    "best_config = analysis.get_best_config(metric=\"f1_score\", mode=\"max\")\n",
    "print(f\"Best hyperparameters: {best_config}\")"
   ]
  },
  {
   "cell_type": "code",
   "execution_count": 21,
   "id": "907587fa",
   "metadata": {},
   "outputs": [],
   "source": [
    "# Preprocessing the test data\n",
    "X_test.drop(features_to_drop, axis=1, inplace=True)\n",
    "X_test[features_to_scale] = scaler.transform(X_test[features_to_scale])"
   ]
  },
  {
   "cell_type": "code",
   "execution_count": 22,
   "id": "49057842",
   "metadata": {},
   "outputs": [],
   "source": [
    "# Instantiate the model with the best configuration\n",
    "model = RandomForestClassifier(**best_config)\n",
    "\n",
    "# Fit the model\n",
    "model.fit(X_train, y_train)\n",
    "\n",
    "# Predict on the test set\n",
    "y_pred = model.predict(X_test)"
   ]
  },
  {
   "cell_type": "code",
   "execution_count": 23,
   "id": "d8689129",
   "metadata": {},
   "outputs": [
    {
     "name": "stdout",
     "output_type": "stream",
     "text": [
      "              precision    recall  f1-score   support\n",
      "\n",
      "           0       0.78      0.36      0.50      1017\n",
      "           1       0.84      0.99      0.91     27522\n",
      "           2       0.60      0.04      0.08      6646\n",
      "           3       0.67      0.91      0.77     14239\n",
      "           4       0.76      0.31      0.44      4644\n",
      "           5       0.00      0.00      0.00       403\n",
      "           6       0.00      0.00      0.00         9\n",
      "           7       0.00      0.00      0.00        41\n",
      "\n",
      "    accuracy                           0.77     54521\n",
      "   macro avg       0.46      0.33      0.34     54521\n",
      "weighted avg       0.75      0.77      0.72     54521\n",
      "\n"
     ]
    }
   ],
   "source": [
    "# Printing the classification report with performance metrics\n",
    "print(classification_report(y_test, y_pred))"
   ]
  }
 ],
 "metadata": {
  "kernelspec": {
   "display_name": "Python 3 (ipykernel)",
   "language": "python",
   "name": "python3"
  },
  "language_info": {
   "codemirror_mode": {
    "name": "ipython",
    "version": 3
   },
   "file_extension": ".py",
   "mimetype": "text/x-python",
   "name": "python",
   "nbconvert_exporter": "python",
   "pygments_lexer": "ipython3",
   "version": "3.9.12"
  }
 },
 "nbformat": 4,
 "nbformat_minor": 5
}
